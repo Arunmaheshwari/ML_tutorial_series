{
 "cells": [
  {
   "cell_type": "code",
   "execution_count": 1,
   "id": "667ecde3-3529-4649-aed8-03cf4e5175f3",
   "metadata": {},
   "outputs": [],
   "source": [
    "import pandas as pd\n",
    "import seaborn as sns\n",
    "import numpy as np\n",
    "from sklearn.ensemble import RandomForestClassifier"
   ]
  },
  {
   "cell_type": "code",
   "execution_count": 4,
   "id": "3382d0c4-06d6-4dbd-a4d7-d27b7f650f7e",
   "metadata": {},
   "outputs": [],
   "source": [
    "df = pd.read_csv('mnist_train.csv')"
   ]
  },
  {
   "cell_type": "code",
   "execution_count": 5,
   "id": "7aab7be6-31aa-45a0-8cd2-452f34eaa121",
   "metadata": {},
   "outputs": [
    {
     "data": {
      "text/html": [
       "<div>\n",
       "<style scoped>\n",
       "    .dataframe tbody tr th:only-of-type {\n",
       "        vertical-align: middle;\n",
       "    }\n",
       "\n",
       "    .dataframe tbody tr th {\n",
       "        vertical-align: top;\n",
       "    }\n",
       "\n",
       "    .dataframe thead th {\n",
       "        text-align: right;\n",
       "    }\n",
       "</style>\n",
       "<table border=\"1\" class=\"dataframe\">\n",
       "  <thead>\n",
       "    <tr style=\"text-align: right;\">\n",
       "      <th></th>\n",
       "      <th>label</th>\n",
       "      <th>1x1</th>\n",
       "      <th>1x2</th>\n",
       "      <th>1x3</th>\n",
       "      <th>1x4</th>\n",
       "      <th>1x5</th>\n",
       "      <th>1x6</th>\n",
       "      <th>1x7</th>\n",
       "      <th>1x8</th>\n",
       "      <th>1x9</th>\n",
       "      <th>...</th>\n",
       "      <th>28x19</th>\n",
       "      <th>28x20</th>\n",
       "      <th>28x21</th>\n",
       "      <th>28x22</th>\n",
       "      <th>28x23</th>\n",
       "      <th>28x24</th>\n",
       "      <th>28x25</th>\n",
       "      <th>28x26</th>\n",
       "      <th>28x27</th>\n",
       "      <th>28x28</th>\n",
       "    </tr>\n",
       "  </thead>\n",
       "  <tbody>\n",
       "    <tr>\n",
       "      <th>0</th>\n",
       "      <td>5</td>\n",
       "      <td>0</td>\n",
       "      <td>0</td>\n",
       "      <td>0</td>\n",
       "      <td>0</td>\n",
       "      <td>0</td>\n",
       "      <td>0</td>\n",
       "      <td>0</td>\n",
       "      <td>0</td>\n",
       "      <td>0</td>\n",
       "      <td>...</td>\n",
       "      <td>0</td>\n",
       "      <td>0</td>\n",
       "      <td>0</td>\n",
       "      <td>0</td>\n",
       "      <td>0</td>\n",
       "      <td>0</td>\n",
       "      <td>0</td>\n",
       "      <td>0</td>\n",
       "      <td>0</td>\n",
       "      <td>0</td>\n",
       "    </tr>\n",
       "    <tr>\n",
       "      <th>1</th>\n",
       "      <td>0</td>\n",
       "      <td>0</td>\n",
       "      <td>0</td>\n",
       "      <td>0</td>\n",
       "      <td>0</td>\n",
       "      <td>0</td>\n",
       "      <td>0</td>\n",
       "      <td>0</td>\n",
       "      <td>0</td>\n",
       "      <td>0</td>\n",
       "      <td>...</td>\n",
       "      <td>0</td>\n",
       "      <td>0</td>\n",
       "      <td>0</td>\n",
       "      <td>0</td>\n",
       "      <td>0</td>\n",
       "      <td>0</td>\n",
       "      <td>0</td>\n",
       "      <td>0</td>\n",
       "      <td>0</td>\n",
       "      <td>0</td>\n",
       "    </tr>\n",
       "    <tr>\n",
       "      <th>2</th>\n",
       "      <td>4</td>\n",
       "      <td>0</td>\n",
       "      <td>0</td>\n",
       "      <td>0</td>\n",
       "      <td>0</td>\n",
       "      <td>0</td>\n",
       "      <td>0</td>\n",
       "      <td>0</td>\n",
       "      <td>0</td>\n",
       "      <td>0</td>\n",
       "      <td>...</td>\n",
       "      <td>0</td>\n",
       "      <td>0</td>\n",
       "      <td>0</td>\n",
       "      <td>0</td>\n",
       "      <td>0</td>\n",
       "      <td>0</td>\n",
       "      <td>0</td>\n",
       "      <td>0</td>\n",
       "      <td>0</td>\n",
       "      <td>0</td>\n",
       "    </tr>\n",
       "    <tr>\n",
       "      <th>3</th>\n",
       "      <td>1</td>\n",
       "      <td>0</td>\n",
       "      <td>0</td>\n",
       "      <td>0</td>\n",
       "      <td>0</td>\n",
       "      <td>0</td>\n",
       "      <td>0</td>\n",
       "      <td>0</td>\n",
       "      <td>0</td>\n",
       "      <td>0</td>\n",
       "      <td>...</td>\n",
       "      <td>0</td>\n",
       "      <td>0</td>\n",
       "      <td>0</td>\n",
       "      <td>0</td>\n",
       "      <td>0</td>\n",
       "      <td>0</td>\n",
       "      <td>0</td>\n",
       "      <td>0</td>\n",
       "      <td>0</td>\n",
       "      <td>0</td>\n",
       "    </tr>\n",
       "    <tr>\n",
       "      <th>4</th>\n",
       "      <td>9</td>\n",
       "      <td>0</td>\n",
       "      <td>0</td>\n",
       "      <td>0</td>\n",
       "      <td>0</td>\n",
       "      <td>0</td>\n",
       "      <td>0</td>\n",
       "      <td>0</td>\n",
       "      <td>0</td>\n",
       "      <td>0</td>\n",
       "      <td>...</td>\n",
       "      <td>0</td>\n",
       "      <td>0</td>\n",
       "      <td>0</td>\n",
       "      <td>0</td>\n",
       "      <td>0</td>\n",
       "      <td>0</td>\n",
       "      <td>0</td>\n",
       "      <td>0</td>\n",
       "      <td>0</td>\n",
       "      <td>0</td>\n",
       "    </tr>\n",
       "  </tbody>\n",
       "</table>\n",
       "<p>5 rows × 785 columns</p>\n",
       "</div>"
      ],
      "text/plain": [
       "   label  1x1  1x2  1x3  1x4  1x5  1x6  1x7  1x8  1x9  ...  28x19  28x20  \\\n",
       "0      5    0    0    0    0    0    0    0    0    0  ...      0      0   \n",
       "1      0    0    0    0    0    0    0    0    0    0  ...      0      0   \n",
       "2      4    0    0    0    0    0    0    0    0    0  ...      0      0   \n",
       "3      1    0    0    0    0    0    0    0    0    0  ...      0      0   \n",
       "4      9    0    0    0    0    0    0    0    0    0  ...      0      0   \n",
       "\n",
       "   28x21  28x22  28x23  28x24  28x25  28x26  28x27  28x28  \n",
       "0      0      0      0      0      0      0      0      0  \n",
       "1      0      0      0      0      0      0      0      0  \n",
       "2      0      0      0      0      0      0      0      0  \n",
       "3      0      0      0      0      0      0      0      0  \n",
       "4      0      0      0      0      0      0      0      0  \n",
       "\n",
       "[5 rows x 785 columns]"
      ]
     },
     "execution_count": 5,
     "metadata": {},
     "output_type": "execute_result"
    }
   ],
   "source": [
    "df.head()"
   ]
  },
  {
   "cell_type": "code",
   "execution_count": 7,
   "id": "118b6b60-1fba-4991-8433-bcf8b8647251",
   "metadata": {},
   "outputs": [],
   "source": [
    "X = df.iloc[:,1:]\n",
    "y = df.iloc[:,0]"
   ]
  },
  {
   "cell_type": "code",
   "execution_count": 8,
   "id": "b82a09c3-72f4-4a91-9a64-e54768b2986a",
   "metadata": {},
   "outputs": [
    {
     "name": "stdout",
     "output_type": "stream",
     "text": [
      "(60000, 784)\n",
      "(60000,)\n"
     ]
    }
   ],
   "source": [
    "print(X.shape)\n",
    "print(y.shape)"
   ]
  },
  {
   "cell_type": "code",
   "execution_count": 9,
   "id": "0229d963-8f0c-4743-94f1-6d34294ad061",
   "metadata": {},
   "outputs": [
    {
     "data": {
      "text/plain": [
       "<Axes: >"
      ]
     },
     "execution_count": 9,
     "metadata": {},
     "output_type": "execute_result"
    },
    {
     "data": {
      "image/png": "[encoded data removed]",
      "text/plain": [
       "<Figure size 640x480 with 2 Axes>"
      ]
     },
     "metadata": {},
     "output_type": "display_data"
    }
   ],
   "source": [
    "sns.heatmap(X.iloc[5].values.reshape(28,28))"
   ]
  },
  {
   "cell_type": "code",
   "execution_count": 10,
   "id": "05f93b6b-c832-45d1-b8d4-9273e0bb5bf9",
   "metadata": {},
   "outputs": [
    {
     "data": {
      "text/html": [
       "<style>#sk-container-id-1 {color: black;}#sk-container-id-1 pre{padding: 0;}#sk-container-id-1 div.sk-toggleable {background-color: white;}#sk-container-id-1 label.sk-toggleable__label {cursor: pointer;display: block;width: 100%;margin-bottom: 0;padding: 0.3em;box-sizing: border-box;text-align: center;}#sk-container-id-1 label.sk-toggleable__label-arrow:before {content: \"▸\";float: left;margin-right: 0.25em;color: #696969;}#sk-container-id-1 label.sk-toggleable__label-arrow:hover:before {color: black;}#sk-container-id-1 div.sk-estimator:hover label.sk-toggleable__label-arrow:before {color: black;}#sk-container-id-1 div.sk-toggleable__content {max-height: 0;max-width: 0;overflow: hidden;text-align: left;background-color: #f0f8ff;}#sk-container-id-1 div.sk-toggleable__content pre {margin: 0.2em;color: black;border-radius: 0.25em;background-color: #f0f8ff;}#sk-container-id-1 input.sk-toggleable__control:checked~div.sk-toggleable__content {max-height: 200px;max-width: 100%;overflow: auto;}#sk-container-id-1 input.sk-toggleable__control:checked~label.sk-toggleable__label-arrow:before {content: \"▾\";}#sk-container-id-1 div.sk-estimator input.sk-toggleable__control:checked~label.sk-toggleable__label {background-color: #d4ebff;}#sk-container-id-1 div.sk-label input.sk-toggleable__control:checked~label.sk-toggleable__label {background-color: #d4ebff;}#sk-container-id-1 input.sk-hidden--visually {border: 0;clip: rect(1px 1px 1px 1px);clip: rect(1px, 1px, 1px, 1px);height: 1px;margin: -1px;overflow: hidden;padding: 0;position: absolute;width: 1px;}#sk-container-id-1 div.sk-estimator {font-family: monospace;background-color: #f0f8ff;border: 1px dotted black;border-radius: 0.25em;box-sizing: border-box;margin-bottom: 0.5em;}#sk-container-id-1 div.sk-estimator:hover {background-color: #d4ebff;}#sk-container-id-1 div.sk-parallel-item::after {content: \"\";width: 100%;border-bottom: 1px solid gray;flex-grow: 1;}#sk-container-id-1 div.sk-label:hover label.sk-toggleable__label {background-color: #d4ebff;}#sk-container-id-1 div.sk-serial::before {content: \"\";position: absolute;border-left: 1px solid gray;box-sizing: border-box;top: 0;bottom: 0;left: 50%;z-index: 0;}#sk-container-id-1 div.sk-serial {display: flex;flex-direction: column;align-items: center;background-color: white;padding-right: 0.2em;padding-left: 0.2em;position: relative;}#sk-container-id-1 div.sk-item {position: relative;z-index: 1;}#sk-container-id-1 div.sk-parallel {display: flex;align-items: stretch;justify-content: center;background-color: white;position: relative;}#sk-container-id-1 div.sk-item::before, #sk-container-id-1 div.sk-parallel-item::before {content: \"\";position: absolute;border-left: 1px solid gray;box-sizing: border-box;top: 0;bottom: 0;left: 50%;z-index: -1;}#sk-container-id-1 div.sk-parallel-item {display: flex;flex-direction: column;z-index: 1;position: relative;background-color: white;}#sk-container-id-1 div.sk-parallel-item:first-child::after {align-self: flex-end;width: 50%;}#sk-container-id-1 div.sk-parallel-item:last-child::after {align-self: flex-start;width: 50%;}#sk-container-id-1 div.sk-parallel-item:only-child::after {width: 0;}#sk-container-id-1 div.sk-dashed-wrapped {border: 1px dashed gray;margin: 0 0.4em 0.5em 0.4em;box-sizing: border-box;padding-bottom: 0.4em;background-color: white;}#sk-container-id-1 div.sk-label label {font-family: monospace;font-weight: bold;display: inline-block;line-height: 1.2em;}#sk-container-id-1 div.sk-label-container {text-align: center;}#sk-container-id-1 div.sk-container {/* jupyter's `normalize.less` sets `[hidden] { display: none; }` but bootstrap.min.css set `[hidden] { display: none !important; }` so we also need the `!important` here to be able to override the default hidden behavior on the sphinx rendered scikit-learn.org. See: https://github.com/scikit-learn/scikit-learn/issues/21755 */display: inline-block !important;position: relative;}#sk-container-id-1 div.sk-text-repr-fallback {display: none;}</style><div id=\"sk-container-id-1\" class=\"sk-top-container\"><div class=\"sk-text-repr-fallback\"><pre>RandomForestClassifier()</pre><b>In a Jupyter environment, please rerun this cell to show the HTML representation or trust the notebook. <br />On GitHub, the HTML representation is unable to render, please try loading this page with nbviewer.org.</b></div><div class=\"sk-container\" hidden><div class=\"sk-item\"><div class=\"sk-estimator sk-toggleable\"><input class=\"sk-toggleable__control sk-hidden--visually\" id=\"sk-estimator-id-1\" type=\"checkbox\" checked><label for=\"sk-estimator-id-1\" class=\"sk-toggleable__label sk-toggleable__label-arrow\">RandomForestClassifier</label><div class=\"sk-toggleable__content\"><pre>RandomForestClassifier()</pre></div></div></div></div></div>"
      ],
      "text/plain": [
       "RandomForestClassifier()"
      ]
     },
     "execution_count": 10,
     "metadata": {},
     "output_type": "execute_result"
    }
   ],
   "source": [
    "rf = RandomForestClassifier()\n",
    "rf.fit(X,y)"
   ]
  },
  {
   "cell_type": "code",
   "execution_count": 11,
   "id": "8826afd5-b23c-43f6-aad4-271c7d5f1272",
   "metadata": {},
   "outputs": [
    {
     "data": {
      "text/plain": [
       "array([0.00000000e+00, 0.00000000e+00, 0.00000000e+00, 0.00000000e+00,\n",
       "       0.00000000e+00, 0.00000000e+00, 0.00000000e+00, 0.00000000e+00,\n",
       "       0.00000000e+00, 0.00000000e+00, 0.00000000e+00, 0.00000000e+00,\n",
       "       1.76277743e-06, 3.61307703e-07, 0.00000000e+00, 0.00000000e+00,\n",
       "       0.00000000e+00, 0.00000000e+00, 0.00000000e+00, 0.00000000e+00,\n",
       "       0.00000000e+00, 0.00000000e+00, 0.00000000e+00, 0.00000000e+00,\n",
       "       0.00000000e+00, 0.00000000e+00, 0.00000000e+00, 0.00000000e+00,\n",
       "       0.00000000e+00, 0.00000000e+00, 0.00000000e+00, 0.00000000e+00,\n",
       "       0.00000000e+00, 0.00000000e+00, 2.40134659e-06, 1.34603131e-06,\n",
       "       4.22279129e-06, 2.15349280e-06, 2.45148383e-06, 3.47852287e-06,\n",
       "       1.62170621e-06, 3.58347047e-06, 3.62540452e-06, 2.35821161e-06,\n",
       "       1.29115611e-06, 2.17019554e-06, 3.65326313e-07, 3.36177169e-06,\n",
       "       1.62430613e-06, 6.89172359e-07, 1.85243041e-07, 0.00000000e+00,\n",
       "       0.00000000e+00, 0.00000000e+00, 0.00000000e+00, 0.00000000e+00,\n",
       "       0.00000000e+00, 0.00000000e+00, 0.00000000e+00, 1.32392736e-06,\n",
       "       0.00000000e+00, 0.00000000e+00, 2.52385014e-06, 2.44338886e-05,\n",
       "       1.40362166e-05, 7.37927453e-06, 1.04900252e-04, 1.13852438e-04,\n",
       "       7.33385729e-05, 2.40997782e-04, 1.88042926e-04, 1.82059929e-04,\n",
       "       1.02367473e-04, 8.14269073e-05, 1.66279416e-04, 8.62664197e-05,\n",
       "       4.06131740e-05, 1.06802209e-05, 4.87026249e-06, 0.00000000e+00,\n",
       "       3.49915602e-07, 2.77856672e-07, 0.00000000e+00, 0.00000000e+00,\n",
       "       0.00000000e+00, 0.00000000e+00, 0.00000000e+00, 0.00000000e+00,\n",
       "       1.17777711e-06, 2.03801265e-06, 6.65235522e-06, 2.16635907e-05,\n",
       "       6.40336239e-05, 9.56776011e-05, 3.94520757e-04, 3.76362118e-04,\n",
       "       4.42211595e-04, 9.32438292e-04, 1.10062498e-03, 2.40371752e-03,\n",
       "       1.54401344e-03, 1.58507961e-03, 1.32144510e-03, 6.58791788e-04,\n",
       "       2.69627164e-04, 1.51532274e-04, 6.07968213e-05, 3.63545374e-05,\n",
       "       1.37143922e-05, 4.85516274e-06, 0.00000000e+00, 0.00000000e+00,\n",
       "       0.00000000e+00, 0.00000000e+00, 0.00000000e+00, 3.03983757e-06,\n",
       "       4.09976784e-06, 1.18267186e-05, 3.38214870e-05, 7.74222635e-05,\n",
       "       1.61375686e-04, 4.27186898e-04, 5.25660507e-04, 9.89210838e-04,\n",
       "       1.71112436e-03, 2.02178417e-03, 1.97848187e-03, 2.18921983e-03,\n",
       "       1.57580752e-03, 1.03738045e-03, 8.25369725e-04, 8.48690948e-04,\n",
       "       3.13983434e-04, 2.35798410e-04, 1.30239383e-04, 9.34865657e-05,\n",
       "       3.25003944e-05, 1.28977162e-05, 8.77948458e-07, 1.75611998e-06,\n",
       "       0.00000000e+00, 0.00000000e+00, 3.59369626e-07, 1.72852710e-06,\n",
       "       2.06213479e-05, 3.91465323e-05, 1.10116643e-04, 2.68714781e-04,\n",
       "       6.35040533e-04, 1.51005567e-03, 1.71014029e-03, 3.11162924e-03,\n",
       "       2.94043789e-03, 5.86962685e-03, 6.54523180e-03, 5.69146205e-03,\n",
       "       5.79728643e-03, 3.04616859e-03, 2.66905396e-03, 1.46545687e-03,\n",
       "       9.07173206e-04, 7.93700968e-04, 6.00464138e-04, 3.27286066e-04,\n",
       "       1.15039412e-04, 2.28912432e-05, 3.79162700e-06, 0.00000000e+00,\n",
       "       0.00000000e+00, 7.12326043e-07, 5.84384043e-07, 8.45077615e-06,\n",
       "       2.96856336e-05, 8.94772935e-05, 2.12789056e-04, 5.09444193e-04,\n",
       "       1.06414613e-03, 1.71875943e-03, 2.35137385e-03, 3.40786540e-03,\n",
       "       2.45403111e-03, 2.76434153e-03, 3.80277791e-03, 3.69511204e-03,\n",
       "       3.66291783e-03, 3.24691787e-03, 1.84355667e-03, 1.54599479e-03,\n",
       "       1.43213316e-03, 1.17167434e-03, 1.27531516e-03, 1.02510580e-03,\n",
       "       3.04011870e-04, 7.54945319e-05, 1.38753997e-05, 2.26489073e-06,\n",
       "       0.00000000e+00, 6.74381813e-07, 2.86052657e-06, 1.25954214e-05,\n",
       "       7.09885631e-05, 1.93958441e-04, 2.89524212e-04, 6.20044292e-04,\n",
       "       1.23807540e-03, 2.41094267e-03, 1.83528311e-03, 2.30708385e-03,\n",
       "       2.51988036e-03, 3.90237732e-03, 5.72916404e-03, 6.55337816e-03,\n",
       "       5.16039325e-03, 3.58156720e-03, 2.55839366e-03, 2.45893352e-03,\n",
       "       1.53395499e-03, 1.34285968e-03, 1.31841320e-03, 1.32281396e-03,\n",
       "       1.07213499e-03, 1.31304859e-04, 9.76470536e-06, 4.84887060e-06,\n",
       "       0.00000000e+00, 2.32200557e-06, 3.09850288e-06, 2.41270099e-05,\n",
       "       7.63710438e-05, 1.86909961e-04, 3.30744368e-04, 7.62700780e-04,\n",
       "       1.26010766e-03, 1.39758547e-03, 1.95218110e-03, 2.56998426e-03,\n",
       "       3.41770810e-03, 4.65212643e-03, 5.36894886e-03, 4.47426802e-03,\n",
       "       4.08404295e-03, 2.32021032e-03, 2.85443531e-03, 3.11648718e-03,\n",
       "       2.38375273e-03, 1.47144797e-03, 1.03090544e-03, 8.71098906e-04,\n",
       "       1.24843255e-03, 1.74182906e-04, 1.25838006e-05, 2.17914004e-06,\n",
       "       0.00000000e+00, 2.96406345e-07, 6.53156677e-06, 3.02252409e-05,\n",
       "       9.72095891e-05, 2.99107387e-04, 6.11772557e-04, 6.75972815e-04,\n",
       "       1.39269958e-03, 2.20073033e-03, 3.32439750e-03, 4.78571616e-03,\n",
       "       3.21868258e-03, 3.80967279e-03, 3.83905866e-03, 4.28705518e-03,\n",
       "       3.62120976e-03, 4.04807594e-03, 3.63444237e-03, 4.04450060e-03,\n",
       "       2.98078660e-03, 1.11112388e-03, 1.05652513e-03, 7.23692530e-04,\n",
       "       5.53564782e-04, 1.38795365e-04, 1.22663124e-05, 0.00000000e+00,\n",
       "       0.00000000e+00, 6.23487008e-07, 1.36840618e-05, 1.86586492e-05,\n",
       "       1.06066189e-04, 1.99933406e-04, 3.79354982e-04, 1.14343668e-03,\n",
       "       1.41632368e-03, 2.64767122e-03, 6.09338908e-03, 5.35088627e-03,\n",
       "       3.63777220e-03, 3.11849479e-03, 2.90390967e-03, 3.57975669e-03,\n",
       "       3.36131191e-03, 4.69529930e-03, 3.70056776e-03, 4.08011844e-03,\n",
       "       2.49334653e-03, 2.30192024e-03, 7.43424008e-04, 4.87338894e-04,\n",
       "       2.59250941e-04, 6.82477992e-05, 1.38194188e-05, 0.00000000e+00,\n",
       "       3.38729772e-07, 5.93752326e-07, 7.17315245e-06, 2.83354165e-05,\n",
       "       1.22236408e-04, 2.45470845e-04, 6.20894925e-04, 1.59880400e-03,\n",
       "       2.57015418e-03, 5.28900774e-03, 5.43722753e-03, 5.82199986e-03,\n",
       "       3.17505241e-03, 3.36249312e-03, 4.12520767e-03, 3.59785129e-03,\n",
       "       3.42609665e-03, 3.81361878e-03, 4.67795512e-03, 3.20562200e-03,\n",
       "       2.01544713e-03, 2.20924470e-03, 1.47403838e-03, 5.94787111e-04,\n",
       "       1.34999480e-04, 3.06185960e-05, 5.88770059e-06, 1.51300918e-06,\n",
       "       0.00000000e+00, 6.88085935e-07, 4.49486482e-06, 1.52965985e-05,\n",
       "       9.95419859e-05, 2.89895379e-04, 1.21943864e-03, 1.56665891e-03,\n",
       "       2.34734336e-03, 5.30904725e-03, 4.73175755e-03, 5.90982060e-03,\n",
       "       4.05705900e-03, 4.90619298e-03, 1.21957401e-02, 4.78490922e-03,\n",
       "       3.24865396e-03, 3.33602840e-03, 4.17498357e-03, 2.17966058e-03,\n",
       "       1.52108925e-03, 2.07401977e-03, 2.68384916e-03, 1.22581529e-03,\n",
       "       1.21685254e-04, 2.97834055e-05, 1.65056040e-05, 2.16114473e-07,\n",
       "       0.00000000e+00, 0.00000000e+00, 6.42176905e-07, 2.21435224e-05,\n",
       "       8.96952777e-05, 4.71917155e-04, 9.94287234e-04, 2.03048519e-03,\n",
       "       3.50173183e-03, 4.91562669e-03, 4.09829710e-03, 6.84682763e-03,\n",
       "       5.61861201e-03, 5.64666213e-03, 1.07107743e-02, 3.82719810e-03,\n",
       "       5.76228002e-03, 5.58062740e-03, 4.34484252e-03, 1.65211274e-03,\n",
       "       1.31602010e-03, 1.52680560e-03, 1.66012666e-03, 4.45507162e-04,\n",
       "       2.57782212e-04, 1.90452669e-05, 5.99889543e-06, 0.00000000e+00,\n",
       "       0.00000000e+00, 1.85259558e-07, 3.33454744e-07, 2.01872773e-05,\n",
       "       8.84282101e-05, 3.56598309e-04, 1.31237077e-03, 1.67077202e-03,\n",
       "       2.93733815e-03, 6.05863016e-03, 4.93188594e-03, 5.29223146e-03,\n",
       "       4.76522669e-03, 5.70635887e-03, 7.21769766e-03, 4.68454845e-03,\n",
       "       4.09857848e-03, 8.20238013e-03, 2.59123944e-03, 1.57654138e-03,\n",
       "       1.13100787e-03, 1.87086657e-03, 1.24767877e-03, 5.71427483e-04,\n",
       "       2.22796023e-04, 3.74051276e-05, 5.35596952e-06, 1.33487631e-06,\n",
       "       0.00000000e+00, 0.00000000e+00, 1.68069929e-06, 1.74611896e-05,\n",
       "       8.29786246e-05, 4.19667378e-04, 1.17484746e-03, 3.14983866e-03,\n",
       "       3.28583035e-03, 5.86482384e-03, 4.63803885e-03, 4.75968160e-03,\n",
       "       3.91952282e-03, 7.78976454e-03, 6.42294225e-03, 4.41683296e-03,\n",
       "       3.92966659e-03, 6.88435151e-03, 3.20402958e-03, 1.88557361e-03,\n",
       "       1.61924484e-03, 2.70265944e-03, 1.42841380e-03, 4.86998927e-04,\n",
       "       1.48054103e-04, 3.58806080e-05, 8.60280155e-06, 3.59283974e-07,\n",
       "       0.00000000e+00, 5.86608318e-07, 7.43551184e-06, 2.45715583e-05,\n",
       "       9.72624298e-05, 4.29248638e-04, 1.35524126e-03, 2.53889469e-03,\n",
       "       3.65156060e-03, 3.66366225e-03, 4.69599933e-03, 5.34013005e-03,\n",
       "       5.42408938e-03, 7.53580371e-03, 4.81367462e-03, 3.88734628e-03,\n",
       "       2.82801725e-03, 2.27513934e-03, 3.38637763e-03, 1.91275594e-03,\n",
       "       1.62520110e-03, 1.27019075e-03, 6.16875825e-04, 3.16390176e-04,\n",
       "       1.68429089e-04, 4.73657676e-05, 1.24374940e-05, 1.06702317e-06,\n",
       "       0.00000000e+00, 0.00000000e+00, 4.57203512e-06, 4.12318348e-05,\n",
       "       1.34918542e-04, 5.43386745e-04, 1.34384696e-03, 2.36818472e-03,\n",
       "       3.02842430e-03, 3.94990300e-03, 4.44698318e-03, 5.36181961e-03,\n",
       "       5.42623665e-03, 6.91391373e-03, 3.38294014e-03, 2.29408224e-03,\n",
       "       1.77471556e-03, 3.37750484e-03, 2.47253032e-03, 1.77789113e-03,\n",
       "       1.28706675e-03, 7.61023286e-04, 6.56437153e-04, 3.73872507e-04,\n",
       "       2.53187379e-04, 6.70163794e-05, 1.42226066e-05, 2.27884670e-06,\n",
       "       7.17468175e-07, 3.59255228e-07, 6.64742234e-06, 5.12976604e-05,\n",
       "       2.01946829e-04, 6.05041331e-04, 1.32834858e-03, 1.53318929e-03,\n",
       "       4.13572347e-03, 5.01288117e-03, 5.93368865e-03, 4.94676167e-03,\n",
       "       4.43602030e-03, 2.39629666e-03, 3.04745311e-03, 1.77308008e-03,\n",
       "       1.41173000e-03, 1.62962132e-03, 2.65164207e-03, 2.32547031e-03,\n",
       "       1.86066551e-03, 7.27160582e-04, 6.33174659e-04, 4.67522878e-04,\n",
       "       2.21554862e-04, 5.98499569e-05, 1.10264559e-05, 1.27850601e-06,\n",
       "       0.00000000e+00, 1.38206444e-06, 1.00201416e-05, 6.75095155e-05,\n",
       "       2.96621015e-04, 1.14307176e-03, 1.78821535e-03, 1.52083323e-03,\n",
       "       3.98173308e-03, 3.29373683e-03, 6.50357852e-03, 6.79962439e-03,\n",
       "       3.88489672e-03, 2.89724265e-03, 2.04641875e-03, 1.43708051e-03,\n",
       "       1.27183289e-03, 1.73894163e-03, 2.46126930e-03, 2.81832305e-03,\n",
       "       1.11127353e-03, 6.62741668e-04, 6.96702542e-04, 5.57179804e-04,\n",
       "       1.73139699e-04, 3.03585811e-05, 3.65361088e-06, 5.55722462e-07,\n",
       "       0.00000000e+00, 6.99832781e-07, 6.48912183e-06, 7.62710887e-05,\n",
       "       1.45722443e-04, 4.87876220e-04, 1.76607647e-03, 4.10748402e-03,\n",
       "       4.35510696e-03, 4.36133828e-03, 2.94027407e-03, 3.26118893e-03,\n",
       "       2.67803131e-03, 2.21707427e-03, 1.77667176e-03, 1.76278848e-03,\n",
       "       1.59340333e-03, 1.81392858e-03, 2.18279948e-03, 1.45246149e-03,\n",
       "       1.50543127e-03, 1.35811326e-03, 8.72745260e-04, 3.80339782e-04,\n",
       "       1.16513756e-04, 2.88430463e-05, 4.55415315e-06, 0.00000000e+00,\n",
       "       0.00000000e+00, 0.00000000e+00, 4.06828683e-06, 5.25095282e-05,\n",
       "       1.48568477e-04, 5.62777977e-04, 1.29916137e-03, 2.34898211e-03,\n",
       "       4.91658743e-03, 5.10445267e-03, 2.73210539e-03, 1.89530386e-03,\n",
       "       1.51742856e-03, 1.32002022e-03, 1.32130065e-03, 1.44234136e-03,\n",
       "       1.06793399e-03, 1.45267874e-03, 1.29956727e-03, 1.56010531e-03,\n",
       "       9.76001600e-04, 7.76970380e-04, 3.00826171e-04, 1.38043130e-04,\n",
       "       4.71074025e-05, 1.27411485e-05, 4.36341062e-06, 0.00000000e+00,\n",
       "       0.00000000e+00, 0.00000000e+00, 2.44122370e-06, 2.20350898e-05,\n",
       "       9.89703724e-05, 2.56118314e-04, 6.47052226e-04, 1.52950330e-03,\n",
       "       3.66924906e-03, 3.21671838e-03, 3.48252143e-03, 2.86412361e-03,\n",
       "       1.72651756e-03, 1.62069923e-03, 1.65614551e-03, 1.51768469e-03,\n",
       "       1.18093330e-03, 8.95505570e-04, 9.32152367e-04, 5.24134973e-04,\n",
       "       4.83480100e-04, 2.78052079e-04, 1.20058356e-04, 6.45783553e-05,\n",
       "       1.72577198e-05, 4.52697310e-06, 1.62240449e-06, 0.00000000e+00,\n",
       "       0.00000000e+00, 0.00000000e+00, 6.35118323e-07, 1.58595713e-05,\n",
       "       6.68978897e-05, 1.23990760e-04, 3.60341171e-04, 6.67438724e-04,\n",
       "       1.28848365e-03, 1.59312389e-03, 3.60472234e-03, 5.43276781e-03,\n",
       "       3.72903081e-03, 5.58389912e-03, 4.35621426e-03, 2.40239932e-03,\n",
       "       1.56056135e-03, 1.32688507e-03, 7.94007151e-04, 3.92383597e-04,\n",
       "       2.65491303e-04, 1.61358895e-04, 7.52948686e-05, 2.30037478e-05,\n",
       "       9.52395991e-06, 2.82484927e-06, 2.89910161e-06, 0.00000000e+00,\n",
       "       0.00000000e+00, 0.00000000e+00, 8.46433932e-07, 8.37981563e-06,\n",
       "       4.24730335e-05, 1.02727125e-04, 1.91419970e-04, 4.07969319e-04,\n",
       "       6.56458597e-04, 9.77790261e-04, 1.00175825e-03, 1.22810636e-03,\n",
       "       2.07007559e-03, 1.17714798e-03, 1.01495411e-03, 6.77773632e-04,\n",
       "       6.18184372e-04, 4.15879478e-04, 3.48755635e-04, 2.44911595e-04,\n",
       "       1.91598240e-04, 7.71679517e-05, 4.55990512e-05, 1.87333005e-05,\n",
       "       4.87652527e-06, 0.00000000e+00, 0.00000000e+00, 0.00000000e+00,\n",
       "       0.00000000e+00, 0.00000000e+00, 7.24130233e-07, 1.02383388e-06,\n",
       "       1.09880891e-05, 3.54664465e-05, 8.76244261e-05, 3.20479765e-04,\n",
       "       3.79527608e-04, 7.46383761e-04, 1.07085968e-03, 1.43176400e-03,\n",
       "       1.10308952e-03, 4.61475007e-04, 5.49252669e-04, 6.02173256e-04,\n",
       "       3.47100773e-04, 3.94095195e-04, 2.82125399e-04, 1.77592668e-04,\n",
       "       7.51698551e-05, 4.89506311e-05, 1.34677953e-05, 5.52792215e-06,\n",
       "       1.29026244e-06, 0.00000000e+00, 0.00000000e+00, 0.00000000e+00,\n",
       "       0.00000000e+00, 0.00000000e+00, 0.00000000e+00, 0.00000000e+00,\n",
       "       4.52217703e-06, 9.59903373e-06, 2.25401132e-05, 2.12384079e-05,\n",
       "       6.95763795e-05, 1.01172520e-04, 1.89720479e-04, 3.00353470e-04,\n",
       "       2.12261794e-04, 2.53475746e-04, 1.25261346e-04, 2.84924341e-04,\n",
       "       1.06306382e-04, 1.11296710e-04, 5.24750122e-05, 4.95258212e-05,\n",
       "       1.86773820e-05, 6.75772823e-06, 7.21878246e-06, 2.99234452e-07,\n",
       "       7.02505679e-07, 0.00000000e+00, 0.00000000e+00, 0.00000000e+00,\n",
       "       0.00000000e+00, 0.00000000e+00, 0.00000000e+00, 0.00000000e+00,\n",
       "       0.00000000e+00, 0.00000000e+00, 6.06220187e-07, 3.55838917e-07,\n",
       "       1.21777180e-06, 8.67111151e-07, 5.90158541e-06, 2.22171959e-06,\n",
       "       2.89154348e-06, 3.31520449e-06, 5.77275509e-06, 2.91233178e-06,\n",
       "       3.66356925e-06, 3.40481797e-06, 3.46112064e-06, 1.92224311e-06,\n",
       "       1.58382440e-06, 3.40520047e-07, 7.90139066e-07, 0.00000000e+00,\n",
       "       0.00000000e+00, 0.00000000e+00, 0.00000000e+00, 0.00000000e+00])"
      ]
     },
     "execution_count": 11,
     "metadata": {},
     "output_type": "execute_result"
    }
   ],
   "source": [
    "rf.feature_importances_"
   ]
  },
  {
   "cell_type": "code",
   "execution_count": 12,
   "id": "e98af3ab-003a-4421-bd1b-13a2c134b43c",
   "metadata": {},
   "outputs": [
    {
     "data": {
      "text/plain": [
       "(784,)"
      ]
     },
     "execution_count": 12,
     "metadata": {},
     "output_type": "execute_result"
    }
   ],
   "source": [
    "rf.feature_importances_.shape"
   ]
  },
  {
   "cell_type": "code",
   "execution_count": 15,
   "id": "a191e202-53d0-411a-8b52-5bc72bbb8c57",
   "metadata": {},
   "outputs": [
    {
     "data": {
      "text/plain": [
       "<Axes: >"
      ]
     },
     "execution_count": 15,
     "metadata": {},
     "output_type": "execute_result"
    },
    {
     "data": {
      "image/png": "[encoded data removed]",
      "text/plain": [
       "<Figure size 640x480 with 2 Axes>"
      ]
     },
     "metadata": {},
     "output_type": "display_data"
    }
   ],
   "source": [
    "sns.heatmap(rf.feature_importances_.reshape(28,28))"
   ]
  },
  {
   "cell_type": "code",
   "execution_count": null,
   "id": "7101cd71-060e-4158-8ff5-495bfd9931b2",
   "metadata": {},
   "outputs": [],
   "source": []
  }
 ],
 "metadata": {
  "kernelspec": {
   "display_name": "Python 3 (ipykernel)",
   "language": "python",
   "name": "python3"
  },
  "language_info": {
   "codemirror_mode": {
    "name": "ipython",
    "version": 3
   },
   "file_extension": ".py",
   "mimetype": "text/x-python",
   "name": "python",
   "nbconvert_exporter": "python",
   "pygments_lexer": "ipython3",
   "version": "3.11.4"
  }
 },
 "nbformat": 4,
 "nbformat_minor": 5
}
