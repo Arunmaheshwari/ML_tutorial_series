{
 "cells": [
  {
   "cell_type": "code",
   "execution_count": 1,
   "id": "e1b4d5ed-b5fb-4f82-9df5-584de3f4ddff",
   "metadata": {},
   "outputs": [],
   "source": [
    "import pandas as pd\n",
    "import numpy as np\n",
    "import matplotlib.pyplot as plt"
   ]
  },
  {
   "cell_type": "code",
   "execution_count": 2,
   "id": "4029d270-da0e-473d-9346-ee6f3f514dba",
   "metadata": {},
   "outputs": [],
   "source": [
    "df = pd.read_csv('placement.csv')"
   ]
  },
  {
   "cell_type": "code",
   "execution_count": 3,
   "id": "28874209-23b6-49c5-8791-702e36585be7",
   "metadata": {},
   "outputs": [
    {
     "data": {
      "text/html": [
       "<div>\n",
       "<style scoped>\n",
       "    .dataframe tbody tr th:only-of-type {\n",
       "        vertical-align: middle;\n",
       "    }\n",
       "\n",
       "    .dataframe tbody tr th {\n",
       "        vertical-align: top;\n",
       "    }\n",
       "\n",
       "    .dataframe thead th {\n",
       "        text-align: right;\n",
       "    }\n",
       "</style>\n",
       "<table border=\"1\" class=\"dataframe\">\n",
       "  <thead>\n",
       "    <tr style=\"text-align: right;\">\n",
       "      <th></th>\n",
       "      <th>cgpa</th>\n",
       "      <th>package</th>\n",
       "    </tr>\n",
       "  </thead>\n",
       "  <tbody>\n",
       "    <tr>\n",
       "      <th>0</th>\n",
       "      <td>6.89</td>\n",
       "      <td>3.26</td>\n",
       "    </tr>\n",
       "    <tr>\n",
       "      <th>1</th>\n",
       "      <td>5.12</td>\n",
       "      <td>1.98</td>\n",
       "    </tr>\n",
       "    <tr>\n",
       "      <th>2</th>\n",
       "      <td>7.82</td>\n",
       "      <td>3.25</td>\n",
       "    </tr>\n",
       "    <tr>\n",
       "      <th>3</th>\n",
       "      <td>7.42</td>\n",
       "      <td>3.67</td>\n",
       "    </tr>\n",
       "    <tr>\n",
       "      <th>4</th>\n",
       "      <td>6.94</td>\n",
       "      <td>3.57</td>\n",
       "    </tr>\n",
       "  </tbody>\n",
       "</table>\n",
       "</div>"
      ],
      "text/plain": [
       "   cgpa  package\n",
       "0  6.89     3.26\n",
       "1  5.12     1.98\n",
       "2  7.82     3.25\n",
       "3  7.42     3.67\n",
       "4  6.94     3.57"
      ]
     },
     "execution_count": 3,
     "metadata": {},
     "output_type": "execute_result"
    }
   ],
   "source": [
    "df.head()"
   ]
  },
  {
   "cell_type": "code",
   "execution_count": 4,
   "id": "805c45e1-e033-4ff5-bc36-4d9f4bcf6bb0",
   "metadata": {},
   "outputs": [
    {
     "data": {
      "text/plain": [
       "Text(0, 0.5, 'Package ( in lpa )')"
      ]
     },
     "execution_count": 4,
     "metadata": {},
     "output_type": "execute_result"
    },
    {
     "data": {
      "image/png": "[encoded data removed]",
      "text/plain": [
       "<Figure size 640x480 with 1 Axes>"
      ]
     },
     "metadata": {},
     "output_type": "display_data"
    }
   ],
   "source": [
    "plt.scatter(df['cgpa'], df['package'])\n",
    "plt.xlabel('CGPA')\n",
    "plt.ylabel(\"Package ( in lpa )\")"
   ]
  },
  {
   "cell_type": "code",
   "execution_count": 7,
   "id": "6075c48f-1999-4fa5-b0ea-e34ce2620a6a",
   "metadata": {},
   "outputs": [],
   "source": [
    "X = df.iloc[:,0:1]\n",
    "y = df.iloc[:,-1]"
   ]
  },
  {
   "cell_type": "code",
   "execution_count": 8,
   "id": "56c1b55e-5767-4c6e-9eb9-4dfc0da21824",
   "metadata": {},
   "outputs": [
    {
     "data": {
      "text/html": [
       "<div>\n",
       "<style scoped>\n",
       "    .dataframe tbody tr th:only-of-type {\n",
       "        vertical-align: middle;\n",
       "    }\n",
       "\n",
       "    .dataframe tbody tr th {\n",
       "        vertical-align: top;\n",
       "    }\n",
       "\n",
       "    .dataframe thead th {\n",
       "        text-align: right;\n",
       "    }\n",
       "</style>\n",
       "<table border=\"1\" class=\"dataframe\">\n",
       "  <thead>\n",
       "    <tr style=\"text-align: right;\">\n",
       "      <th></th>\n",
       "      <th>cgpa</th>\n",
       "    </tr>\n",
       "  </thead>\n",
       "  <tbody>\n",
       "    <tr>\n",
       "      <th>0</th>\n",
       "      <td>6.89</td>\n",
       "    </tr>\n",
       "    <tr>\n",
       "      <th>1</th>\n",
       "      <td>5.12</td>\n",
       "    </tr>\n",
       "    <tr>\n",
       "      <th>2</th>\n",
       "      <td>7.82</td>\n",
       "    </tr>\n",
       "    <tr>\n",
       "      <th>3</th>\n",
       "      <td>7.42</td>\n",
       "    </tr>\n",
       "    <tr>\n",
       "      <th>4</th>\n",
       "      <td>6.94</td>\n",
       "    </tr>\n",
       "  </tbody>\n",
       "</table>\n",
       "</div>"
      ],
      "text/plain": [
       "   cgpa\n",
       "0  6.89\n",
       "1  5.12\n",
       "2  7.82\n",
       "3  7.42\n",
       "4  6.94"
      ]
     },
     "execution_count": 8,
     "metadata": {},
     "output_type": "execute_result"
    }
   ],
   "source": [
    "X.head()"
   ]
  },
  {
   "cell_type": "code",
   "execution_count": 9,
   "id": "4c6ecec0-e799-4966-9d63-37eefb32c985",
   "metadata": {},
   "outputs": [
    {
     "data": {
      "text/plain": [
       "0    3.26\n",
       "1    1.98\n",
       "2    3.25\n",
       "3    3.67\n",
       "4    3.57\n",
       "Name: package, dtype: float64"
      ]
     },
     "execution_count": 9,
     "metadata": {},
     "output_type": "execute_result"
    }
   ],
   "source": [
    "y.head()"
   ]
  },
  {
   "cell_type": "code",
   "execution_count": 10,
   "id": "3b7afbfe-50b1-4ab4-8154-401901cd29ac",
   "metadata": {},
   "outputs": [],
   "source": [
    "from sklearn.model_selection import train_test_split\n",
    "X_train, X_test, y_train, y_test = train_test_split(X,y, test_size = 0.2, random_state = 42)"
   ]
  },
  {
   "cell_type": "code",
   "execution_count": 11,
   "id": "32903a1e-e53e-4e73-98e4-0d4437bbd19c",
   "metadata": {},
   "outputs": [],
   "source": [
    "from sklearn.linear_model import LinearRegression\n",
    "lr = LinearRegression()"
   ]
  },
  {
   "cell_type": "code",
   "execution_count": 12,
   "id": "f1c6e52d-fb0d-4980-b4bb-0f14e119cc10",
   "metadata": {},
   "outputs": [
    {
     "data": {
      "text/html": [
       "<style>#sk-container-id-1 {color: black;}#sk-container-id-1 pre{padding: 0;}#sk-container-id-1 div.sk-toggleable {background-color: white;}#sk-container-id-1 label.sk-toggleable__label {cursor: pointer;display: block;width: 100%;margin-bottom: 0;padding: 0.3em;box-sizing: border-box;text-align: center;}#sk-container-id-1 label.sk-toggleable__label-arrow:before {content: \"▸\";float: left;margin-right: 0.25em;color: #696969;}#sk-container-id-1 label.sk-toggleable__label-arrow:hover:before {color: black;}#sk-container-id-1 div.sk-estimator:hover label.sk-toggleable__label-arrow:before {color: black;}#sk-container-id-1 div.sk-toggleable__content {max-height: 0;max-width: 0;overflow: hidden;text-align: left;background-color: #f0f8ff;}#sk-container-id-1 div.sk-toggleable__content pre {margin: 0.2em;color: black;border-radius: 0.25em;background-color: #f0f8ff;}#sk-container-id-1 input.sk-toggleable__control:checked~div.sk-toggleable__content {max-height: 200px;max-width: 100%;overflow: auto;}#sk-container-id-1 input.sk-toggleable__control:checked~label.sk-toggleable__label-arrow:before {content: \"▾\";}#sk-container-id-1 div.sk-estimator input.sk-toggleable__control:checked~label.sk-toggleable__label {background-color: #d4ebff;}#sk-container-id-1 div.sk-label input.sk-toggleable__control:checked~label.sk-toggleable__label {background-color: #d4ebff;}#sk-container-id-1 input.sk-hidden--visually {border: 0;clip: rect(1px 1px 1px 1px);clip: rect(1px, 1px, 1px, 1px);height: 1px;margin: -1px;overflow: hidden;padding: 0;position: absolute;width: 1px;}#sk-container-id-1 div.sk-estimator {font-family: monospace;background-color: #f0f8ff;border: 1px dotted black;border-radius: 0.25em;box-sizing: border-box;margin-bottom: 0.5em;}#sk-container-id-1 div.sk-estimator:hover {background-color: #d4ebff;}#sk-container-id-1 div.sk-parallel-item::after {content: \"\";width: 100%;border-bottom: 1px solid gray;flex-grow: 1;}#sk-container-id-1 div.sk-label:hover label.sk-toggleable__label {background-color: #d4ebff;}#sk-container-id-1 div.sk-serial::before {content: \"\";position: absolute;border-left: 1px solid gray;box-sizing: border-box;top: 0;bottom: 0;left: 50%;z-index: 0;}#sk-container-id-1 div.sk-serial {display: flex;flex-direction: column;align-items: center;background-color: white;padding-right: 0.2em;padding-left: 0.2em;position: relative;}#sk-container-id-1 div.sk-item {position: relative;z-index: 1;}#sk-container-id-1 div.sk-parallel {display: flex;align-items: stretch;justify-content: center;background-color: white;position: relative;}#sk-container-id-1 div.sk-item::before, #sk-container-id-1 div.sk-parallel-item::before {content: \"\";position: absolute;border-left: 1px solid gray;box-sizing: border-box;top: 0;bottom: 0;left: 50%;z-index: -1;}#sk-container-id-1 div.sk-parallel-item {display: flex;flex-direction: column;z-index: 1;position: relative;background-color: white;}#sk-container-id-1 div.sk-parallel-item:first-child::after {align-self: flex-end;width: 50%;}#sk-container-id-1 div.sk-parallel-item:last-child::after {align-self: flex-start;width: 50%;}#sk-container-id-1 div.sk-parallel-item:only-child::after {width: 0;}#sk-container-id-1 div.sk-dashed-wrapped {border: 1px dashed gray;margin: 0 0.4em 0.5em 0.4em;box-sizing: border-box;padding-bottom: 0.4em;background-color: white;}#sk-container-id-1 div.sk-label label {font-family: monospace;font-weight: bold;display: inline-block;line-height: 1.2em;}#sk-container-id-1 div.sk-label-container {text-align: center;}#sk-container-id-1 div.sk-container {/* jupyter's `normalize.less` sets `[hidden] { display: none; }` but bootstrap.min.css set `[hidden] { display: none !important; }` so we also need the `!important` here to be able to override the default hidden behavior on the sphinx rendered scikit-learn.org. See: https://github.com/scikit-learn/scikit-learn/issues/21755 */display: inline-block !important;position: relative;}#sk-container-id-1 div.sk-text-repr-fallback {display: none;}</style><div id=\"sk-container-id-1\" class=\"sk-top-container\"><div class=\"sk-text-repr-fallback\"><pre>LinearRegression()</pre><b>In a Jupyter environment, please rerun this cell to show the HTML representation or trust the notebook. <br />On GitHub, the HTML representation is unable to render, please try loading this page with nbviewer.org.</b></div><div class=\"sk-container\" hidden><div class=\"sk-item\"><div class=\"sk-estimator sk-toggleable\"><input class=\"sk-toggleable__control sk-hidden--visually\" id=\"sk-estimator-id-1\" type=\"checkbox\" checked><label for=\"sk-estimator-id-1\" class=\"sk-toggleable__label sk-toggleable__label-arrow\">LinearRegression</label><div class=\"sk-toggleable__content\"><pre>LinearRegression()</pre></div></div></div></div></div>"
      ],
      "text/plain": [
       "LinearRegression()"
      ]
     },
     "execution_count": 12,
     "metadata": {},
     "output_type": "execute_result"
    }
   ],
   "source": [
    "lr.fit(X_train, y_train)"
   ]
  },
  {
   "cell_type": "code",
   "execution_count": 13,
   "id": "81b24c7e-2095-4622-902e-799cc48eb297",
   "metadata": {},
   "outputs": [
    {
     "data": {
      "text/plain": [
       "Text(0, 0.5, 'Package in LPA')"
      ]
     },
     "execution_count": 13,
     "metadata": {},
     "output_type": "execute_result"
    },
    {
     "data": {
      "image/png": "[encoded data removed]",
      "text/plain": [
       "<Figure size 640x480 with 1 Axes>"
      ]
     },
     "metadata": {},
     "output_type": "display_data"
    }
   ],
   "source": [
    "plt.scatter(df['cgpa'], df['package'])\n",
    "plt.plot(X_train, lr.predict(X_train), color = 'red')\n",
    "plt.xlabel(\"CGPA\")\n",
    "plt.ylabel('Package in LPA')"
   ]
  },
  {
   "cell_type": "code",
   "execution_count": 14,
   "id": "1a4fcdf5-3664-4cd6-b00f-d9ef61ccfdf2",
   "metadata": {},
   "outputs": [],
   "source": [
    "from sklearn.metrics import mean_absolute_error, mean_squared_error, r2_score"
   ]
  },
  {
   "cell_type": "code",
   "execution_count": 17,
   "id": "ae468d7b-fcb7-4d54-80f2-e4bb5de3e482",
   "metadata": {},
   "outputs": [],
   "source": [
    "y_pred = lr.predict(X_test)"
   ]
  },
  {
   "cell_type": "code",
   "execution_count": 18,
   "id": "b9972b4a-a6f4-45cc-9b03-7b6dec420e39",
   "metadata": {},
   "outputs": [
    {
     "data": {
      "text/plain": [
       "array([2.79, 3.23, 3.26, 3.04, 3.34, 4.21, 2.94, 2.87, 2.99, 3.58, 1.63,\n",
       "       2.08, 4.08, 2.21, 3.47, 3.64, 2.74, 3.08, 2.17, 2.99, 2.31, 2.35,\n",
       "       3.4 , 3.08, 3.81, 2.19, 1.53, 2.89, 3.16, 2.48, 3.51, 2.98, 3.39,\n",
       "       3.28, 2.73, 3.74, 2.6 , 3.13, 3.82, 3.15])"
      ]
     },
     "execution_count": 18,
     "metadata": {},
     "output_type": "execute_result"
    }
   ],
   "source": [
    "y_test.values"
   ]
  },
  {
   "cell_type": "code",
   "execution_count": 19,
   "id": "2506d7fc-710f-4e3c-9479-4a2949c3b6c9",
   "metadata": {},
   "outputs": [
    {
     "name": "stdout",
     "output_type": "stream",
     "text": [
      "MAE:  0.23150985393278373\n"
     ]
    }
   ],
   "source": [
    "print(\"MAE: \", mean_absolute_error(y_test, y_pred))"
   ]
  },
  {
   "cell_type": "code",
   "execution_count": 20,
   "id": "4ed95113-6b2c-4c92-aacf-4ec930d43bd4",
   "metadata": {},
   "outputs": [
    {
     "name": "stdout",
     "output_type": "stream",
     "text": [
      "MSE:  0.08417638361329656\n"
     ]
    }
   ],
   "source": [
    "print(\"MSE: \", mean_squared_error(y_test, y_pred))"
   ]
  },
  {
   "cell_type": "code",
   "execution_count": 22,
   "id": "2fd44b9b-ff5f-44ca-be70-48f48306596c",
   "metadata": {},
   "outputs": [
    {
     "name": "stdout",
     "output_type": "stream",
     "text": [
      "RMSE:  0.2901316659954521\n"
     ]
    }
   ],
   "source": [
    "print(\"RMSE: \", np.sqrt(mean_squared_error(y_test, y_pred)))"
   ]
  },
  {
   "cell_type": "code",
   "execution_count": 25,
   "id": "8a4b946c-298c-420a-badc-60a5ef95d086",
   "metadata": {},
   "outputs": [
    {
     "name": "stdout",
     "output_type": "stream",
     "text": [
      "R2 Score:  0.7730984312051673\n"
     ]
    }
   ],
   "source": [
    "print(\"R2 Score: \", r2_score(y_test, y_pred))\n",
    "r2 = r2_score(y_test, y_pred)"
   ]
  },
  {
   "cell_type": "code",
   "execution_count": 26,
   "id": "34e07eaa-2512-4096-a349-b9c0d34b8e04",
   "metadata": {},
   "outputs": [
    {
     "data": {
      "text/plain": [
       "(40, 1)"
      ]
     },
     "execution_count": 26,
     "metadata": {},
     "output_type": "execute_result"
    }
   ],
   "source": [
    "# Adjusted R2 score\n",
    "X_test.shape"
   ]
  },
  {
   "cell_type": "code",
   "execution_count": 27,
   "id": "d6316492-20e0-4154-bf84-413c5942c872",
   "metadata": {},
   "outputs": [
    {
     "data": {
      "text/plain": [
       "0.7671273372895138"
      ]
     },
     "execution_count": 27,
     "metadata": {},
     "output_type": "execute_result"
    }
   ],
   "source": [
    "1 - ((1-r2)*(40 -1)) / (40 - 1 - 1)"
   ]
  },
  {
   "cell_type": "code",
   "execution_count": 28,
   "id": "bb0846a0-1234-45e5-9bcd-301cdfa446d1",
   "metadata": {},
   "outputs": [
    {
     "data": {
      "text/html": [
       "<div>\n",
       "<style scoped>\n",
       "    .dataframe tbody tr th:only-of-type {\n",
       "        vertical-align: middle;\n",
       "    }\n",
       "\n",
       "    .dataframe tbody tr th {\n",
       "        vertical-align: top;\n",
       "    }\n",
       "\n",
       "    .dataframe thead th {\n",
       "        text-align: right;\n",
       "    }\n",
       "</style>\n",
       "<table border=\"1\" class=\"dataframe\">\n",
       "  <thead>\n",
       "    <tr style=\"text-align: right;\">\n",
       "      <th></th>\n",
       "      <th>cgpa</th>\n",
       "      <th>random_feature</th>\n",
       "      <th>package</th>\n",
       "    </tr>\n",
       "  </thead>\n",
       "  <tbody>\n",
       "    <tr>\n",
       "      <th>0</th>\n",
       "      <td>6.89</td>\n",
       "      <td>0.182777</td>\n",
       "      <td>3.26</td>\n",
       "    </tr>\n",
       "    <tr>\n",
       "      <th>1</th>\n",
       "      <td>5.12</td>\n",
       "      <td>0.994717</td>\n",
       "      <td>1.98</td>\n",
       "    </tr>\n",
       "    <tr>\n",
       "      <th>2</th>\n",
       "      <td>7.82</td>\n",
       "      <td>0.756629</td>\n",
       "      <td>3.25</td>\n",
       "    </tr>\n",
       "    <tr>\n",
       "      <th>3</th>\n",
       "      <td>7.42</td>\n",
       "      <td>0.965695</td>\n",
       "      <td>3.67</td>\n",
       "    </tr>\n",
       "    <tr>\n",
       "      <th>4</th>\n",
       "      <td>6.94</td>\n",
       "      <td>0.904544</td>\n",
       "      <td>3.57</td>\n",
       "    </tr>\n",
       "  </tbody>\n",
       "</table>\n",
       "</div>"
      ],
      "text/plain": [
       "   cgpa  random_feature  package\n",
       "0  6.89        0.182777     3.26\n",
       "1  5.12        0.994717     1.98\n",
       "2  7.82        0.756629     3.25\n",
       "3  7.42        0.965695     3.67\n",
       "4  6.94        0.904544     3.57"
      ]
     },
     "execution_count": 28,
     "metadata": {},
     "output_type": "execute_result"
    }
   ],
   "source": [
    "new_df = df.copy()\n",
    "new_df['random_feature'] = np.random.random(200)\n",
    "\n",
    "new_df = new_df[['cgpa', 'random_feature', 'package']]\n",
    "new_df.head()"
   ]
  },
  {
   "cell_type": "code",
   "execution_count": 29,
   "id": "8923dd03-4214-4c90-bd53-7dff4b996fe3",
   "metadata": {},
   "outputs": [
    {
     "data": {
      "text/plain": [
       "(200, 3)"
      ]
     },
     "execution_count": 29,
     "metadata": {},
     "output_type": "execute_result"
    }
   ],
   "source": [
    "new_df.shape"
   ]
  },
  {
   "cell_type": "code",
   "execution_count": 30,
   "id": "bf92bcb4-ec7f-40bc-a8d3-a1c86812deb4",
   "metadata": {},
   "outputs": [
    {
     "data": {
      "text/plain": [
       "array([[6.89000000e+00, 1.82776595e-01, 3.26000000e+00],\n",
       "       [5.12000000e+00, 9.94716633e-01, 1.98000000e+00],\n",
       "       [7.82000000e+00, 7.56629369e-01, 3.25000000e+00],\n",
       "       [7.42000000e+00, 9.65695196e-01, 3.67000000e+00],\n",
       "       [6.94000000e+00, 9.04544238e-01, 3.57000000e+00],\n",
       "       [7.89000000e+00, 6.89750918e-01, 2.99000000e+00],\n",
       "       [6.73000000e+00, 4.07973318e-01, 2.60000000e+00],\n",
       "       [6.75000000e+00, 9.42175031e-01, 2.48000000e+00],\n",
       "       [6.09000000e+00, 4.39210568e-01, 2.31000000e+00],\n",
       "       [8.31000000e+00, 4.55607995e-01, 3.51000000e+00],\n",
       "       [5.32000000e+00, 4.60227852e-02, 1.86000000e+00],\n",
       "       [6.61000000e+00, 3.93877004e-01, 2.60000000e+00],\n",
       "       [8.94000000e+00, 3.80047850e-03, 3.65000000e+00],\n",
       "       [6.93000000e+00, 4.81840535e-01, 2.89000000e+00],\n",
       "       [7.73000000e+00, 6.70830348e-01, 3.42000000e+00],\n",
       "       [7.25000000e+00, 3.11078804e-01, 3.23000000e+00],\n",
       "       [6.84000000e+00, 7.68715040e-01, 2.35000000e+00],\n",
       "       [5.38000000e+00, 7.34333065e-01, 2.09000000e+00],\n",
       "       [6.94000000e+00, 7.29100767e-03, 2.98000000e+00],\n",
       "       [7.48000000e+00, 3.44637193e-01, 2.83000000e+00],\n",
       "       [7.28000000e+00, 9.35125757e-01, 3.16000000e+00],\n",
       "       [6.85000000e+00, 9.47939329e-01, 2.93000000e+00],\n",
       "       [6.14000000e+00, 9.87406775e-01, 2.30000000e+00],\n",
       "       [6.19000000e+00, 7.74610190e-01, 2.48000000e+00],\n",
       "       [6.53000000e+00, 2.71002878e-01, 2.71000000e+00],\n",
       "       [7.28000000e+00, 2.93110225e-01, 3.65000000e+00],\n",
       "       [8.31000000e+00, 5.97372881e-01, 3.42000000e+00],\n",
       "       [5.42000000e+00, 7.68367718e-01, 2.16000000e+00],\n",
       "       [5.94000000e+00, 4.60116414e-01, 2.24000000e+00],\n",
       "       [7.15000000e+00, 7.64894575e-01, 3.49000000e+00],\n",
       "       [7.36000000e+00, 1.98400693e-01, 3.26000000e+00],\n",
       "       [8.10000000e+00, 7.28531773e-01, 3.89000000e+00],\n",
       "       [6.96000000e+00, 7.21292231e-01, 3.08000000e+00],\n",
       "       [6.35000000e+00, 7.23732675e-01, 2.73000000e+00],\n",
       "       [7.34000000e+00, 9.75510253e-02, 3.42000000e+00],\n",
       "       [6.87000000e+00, 8.91854656e-01, 2.87000000e+00],\n",
       "       [5.99000000e+00, 7.70468807e-01, 2.84000000e+00],\n",
       "       [5.90000000e+00, 6.06295852e-01, 2.43000000e+00],\n",
       "       [8.62000000e+00, 3.67136242e-01, 4.36000000e+00],\n",
       "       [7.43000000e+00, 2.00116442e-01, 3.33000000e+00],\n",
       "       [9.38000000e+00, 6.43405102e-01, 4.02000000e+00],\n",
       "       [6.89000000e+00, 5.57669851e-01, 2.70000000e+00],\n",
       "       [5.95000000e+00, 7.74908317e-01, 2.54000000e+00],\n",
       "       [7.66000000e+00, 4.73467072e-01, 2.76000000e+00],\n",
       "       [5.09000000e+00, 3.61098768e-01, 1.86000000e+00],\n",
       "       [7.87000000e+00, 2.72404000e-02, 3.58000000e+00],\n",
       "       [6.07000000e+00, 1.97972379e-01, 2.26000000e+00],\n",
       "       [5.84000000e+00, 7.73590741e-01, 3.26000000e+00],\n",
       "       [8.63000000e+00, 4.71715902e-01, 4.09000000e+00],\n",
       "       [8.87000000e+00, 5.61995889e-01, 4.62000000e+00],\n",
       "       [9.58000000e+00, 1.49307515e-01, 4.43000000e+00],\n",
       "       [9.26000000e+00, 3.31671267e-01, 3.79000000e+00],\n",
       "       [8.37000000e+00, 2.40776461e-01, 4.11000000e+00],\n",
       "       [6.47000000e+00, 2.48289153e-01, 2.61000000e+00],\n",
       "       [6.86000000e+00, 9.11190249e-01, 3.09000000e+00],\n",
       "       [8.20000000e+00, 9.52814322e-01, 3.39000000e+00],\n",
       "       [5.84000000e+00, 1.74327189e-01, 2.74000000e+00],\n",
       "       [6.60000000e+00, 2.99223619e-01, 1.94000000e+00],\n",
       "       [6.92000000e+00, 8.28216756e-01, 3.09000000e+00],\n",
       "       [7.56000000e+00, 2.80054752e-01, 3.31000000e+00],\n",
       "       [5.61000000e+00, 4.65706710e-01, 2.19000000e+00],\n",
       "       [5.48000000e+00, 8.65861133e-02, 1.61000000e+00],\n",
       "       [6.34000000e+00, 2.25794267e-01, 2.09000000e+00],\n",
       "       [9.16000000e+00, 6.14789590e-01, 4.25000000e+00],\n",
       "       [7.36000000e+00, 3.79295809e-01, 2.92000000e+00],\n",
       "       [7.60000000e+00, 4.81081928e-01, 3.81000000e+00],\n",
       "       [5.11000000e+00, 1.54268989e-02, 1.63000000e+00],\n",
       "       [6.51000000e+00, 9.65280577e-02, 2.89000000e+00],\n",
       "       [7.56000000e+00, 1.26236612e-01, 2.99000000e+00],\n",
       "       [7.30000000e+00, 9.82942199e-01, 2.94000000e+00],\n",
       "       [5.79000000e+00, 9.43525646e-01, 2.35000000e+00],\n",
       "       [7.47000000e+00, 2.32285166e-01, 3.34000000e+00],\n",
       "       [7.78000000e+00, 9.01314519e-01, 3.62000000e+00],\n",
       "       [8.44000000e+00, 7.16952437e-01, 4.03000000e+00],\n",
       "       [6.85000000e+00, 8.82285438e-01, 3.44000000e+00],\n",
       "       [6.97000000e+00, 4.06582813e-01, 3.28000000e+00],\n",
       "       [6.94000000e+00, 3.54187324e-01, 3.15000000e+00],\n",
       "       [8.99000000e+00, 8.97903572e-01, 4.60000000e+00],\n",
       "       [6.59000000e+00, 1.67546121e-01, 2.21000000e+00],\n",
       "       [7.18000000e+00, 4.32971580e-01, 3.00000000e+00],\n",
       "       [7.63000000e+00, 5.44431216e-01, 3.44000000e+00],\n",
       "       [6.10000000e+00, 7.75344961e-02, 2.20000000e+00],\n",
       "       [5.58000000e+00, 4.76939873e-01, 2.17000000e+00],\n",
       "       [8.44000000e+00, 6.46226015e-01, 3.49000000e+00],\n",
       "       [4.26000000e+00, 1.02713368e-01, 1.53000000e+00],\n",
       "       [4.79000000e+00, 2.80849617e-01, 1.48000000e+00],\n",
       "       [7.61000000e+00, 6.39188391e-02, 2.77000000e+00],\n",
       "       [8.09000000e+00, 5.85632061e-01, 3.55000000e+00],\n",
       "       [4.73000000e+00, 7.26888163e-01, 1.48000000e+00],\n",
       "       [6.42000000e+00, 8.57406901e-01, 2.72000000e+00],\n",
       "       [7.11000000e+00, 3.12084882e-01, 2.66000000e+00],\n",
       "       [6.22000000e+00, 8.16442887e-01, 2.14000000e+00],\n",
       "       [7.90000000e+00, 8.44411253e-01, 4.00000000e+00],\n",
       "       [6.79000000e+00, 6.73090406e-01, 3.08000000e+00],\n",
       "       [5.83000000e+00, 8.77422184e-01, 2.42000000e+00],\n",
       "       [6.63000000e+00, 1.28723129e-01, 2.79000000e+00],\n",
       "       [7.11000000e+00, 1.78563555e-02, 2.61000000e+00],\n",
       "       [5.98000000e+00, 4.58089281e-02, 2.84000000e+00],\n",
       "       [7.69000000e+00, 3.23831384e-01, 3.83000000e+00],\n",
       "       [6.61000000e+00, 3.91137966e-01, 3.24000000e+00],\n",
       "       [7.95000000e+00, 9.36127683e-01, 4.14000000e+00],\n",
       "       [6.71000000e+00, 2.44461856e-01, 3.52000000e+00],\n",
       "       [5.13000000e+00, 5.42536098e-01, 1.37000000e+00],\n",
       "       [7.05000000e+00, 4.14573921e-01, 3.00000000e+00],\n",
       "       [7.62000000e+00, 1.46123661e-01, 3.74000000e+00],\n",
       "       [6.66000000e+00, 7.86075813e-01, 2.82000000e+00],\n",
       "       [6.13000000e+00, 1.99380049e-01, 2.19000000e+00],\n",
       "       [6.33000000e+00, 8.88652725e-01, 2.59000000e+00],\n",
       "       [7.76000000e+00, 3.70239800e-01, 3.54000000e+00],\n",
       "       [7.77000000e+00, 2.00967983e-01, 4.06000000e+00],\n",
       "       [8.18000000e+00, 4.00560143e-03, 3.76000000e+00],\n",
       "       [5.42000000e+00, 7.29801710e-01, 2.25000000e+00],\n",
       "       [8.58000000e+00, 7.12305136e-01, 4.10000000e+00],\n",
       "       [6.94000000e+00, 4.74066096e-01, 2.37000000e+00],\n",
       "       [5.84000000e+00, 6.37564302e-02, 1.87000000e+00],\n",
       "       [8.35000000e+00, 8.45407600e-01, 4.21000000e+00],\n",
       "       [9.04000000e+00, 5.81764829e-01, 3.33000000e+00],\n",
       "       [7.12000000e+00, 9.46463503e-01, 2.99000000e+00],\n",
       "       [7.40000000e+00, 3.53681976e-01, 2.88000000e+00],\n",
       "       [7.39000000e+00, 9.48864608e-01, 2.65000000e+00],\n",
       "       [5.23000000e+00, 8.36071094e-01, 1.73000000e+00],\n",
       "       [6.50000000e+00, 7.04309214e-01, 3.02000000e+00],\n",
       "       [5.12000000e+00, 7.48544146e-01, 2.01000000e+00],\n",
       "       [5.10000000e+00, 5.20100362e-01, 2.30000000e+00],\n",
       "       [6.06000000e+00, 3.82361626e-01, 2.31000000e+00],\n",
       "       [7.33000000e+00, 1.68922527e-01, 3.16000000e+00],\n",
       "       [5.91000000e+00, 8.06098228e-01, 2.60000000e+00],\n",
       "       [6.78000000e+00, 3.89400601e-01, 3.11000000e+00],\n",
       "       [7.93000000e+00, 4.48718536e-01, 3.34000000e+00],\n",
       "       [7.29000000e+00, 4.64450397e-02, 3.12000000e+00],\n",
       "       [6.68000000e+00, 5.11705314e-01, 2.49000000e+00],\n",
       "       [6.37000000e+00, 5.82074000e-01, 2.01000000e+00],\n",
       "       [5.84000000e+00, 9.97266284e-01, 2.48000000e+00],\n",
       "       [6.05000000e+00, 5.88137290e-01, 2.58000000e+00],\n",
       "       [7.20000000e+00, 4.35543972e-01, 2.83000000e+00],\n",
       "       [6.10000000e+00, 7.89118410e-02, 2.60000000e+00],\n",
       "       [5.64000000e+00, 3.17243799e-01, 2.10000000e+00],\n",
       "       [7.14000000e+00, 9.80502495e-01, 3.13000000e+00],\n",
       "       [7.91000000e+00, 8.63454298e-01, 3.89000000e+00],\n",
       "       [7.19000000e+00, 8.83282101e-01, 2.40000000e+00],\n",
       "       [7.91000000e+00, 3.88660184e-01, 3.15000000e+00],\n",
       "       [6.76000000e+00, 4.47978349e-01, 3.18000000e+00],\n",
       "       [6.93000000e+00, 7.33855108e-01, 3.04000000e+00],\n",
       "       [4.85000000e+00, 7.63170549e-01, 1.54000000e+00],\n",
       "       [6.17000000e+00, 8.85473153e-01, 2.42000000e+00],\n",
       "       [5.84000000e+00, 8.94445332e-02, 2.18000000e+00],\n",
       "       [6.07000000e+00, 2.36178214e-01, 2.46000000e+00],\n",
       "       [5.66000000e+00, 5.38387524e-01, 2.21000000e+00],\n",
       "       [7.57000000e+00, 1.93161269e-01, 3.40000000e+00],\n",
       "       [8.28000000e+00, 1.47141858e-01, 3.67000000e+00],\n",
       "       [6.30000000e+00, 9.04153931e-01, 2.73000000e+00],\n",
       "       [6.12000000e+00, 7.79761804e-01, 2.76000000e+00],\n",
       "       [7.37000000e+00, 5.66872688e-01, 3.08000000e+00],\n",
       "       [7.94000000e+00, 9.85276311e-01, 3.99000000e+00],\n",
       "       [7.08000000e+00, 8.03549673e-01, 2.85000000e+00],\n",
       "       [6.98000000e+00, 1.88092170e-02, 3.09000000e+00],\n",
       "       [7.38000000e+00, 7.60290642e-01, 3.13000000e+00],\n",
       "       [6.47000000e+00, 7.35917536e-01, 2.70000000e+00],\n",
       "       [5.95000000e+00, 3.13178801e-01, 3.04000000e+00],\n",
       "       [8.71000000e+00, 2.28155945e-01, 4.08000000e+00],\n",
       "       [7.13000000e+00, 4.08161090e-01, 2.93000000e+00],\n",
       "       [7.30000000e+00, 5.20906499e-01, 3.33000000e+00],\n",
       "       [5.53000000e+00, 9.23456033e-01, 2.55000000e+00],\n",
       "       [8.93000000e+00, 1.47765520e-01, 3.91000000e+00],\n",
       "       [9.06000000e+00, 9.26710434e-01, 3.82000000e+00],\n",
       "       [8.21000000e+00, 6.58144078e-01, 4.08000000e+00],\n",
       "       [8.60000000e+00, 6.89489869e-01, 3.98000000e+00],\n",
       "       [8.13000000e+00, 7.75825960e-01, 3.60000000e+00],\n",
       "       [8.65000000e+00, 8.22075233e-01, 3.52000000e+00],\n",
       "       [9.31000000e+00, 9.20918025e-01, 4.37000000e+00],\n",
       "       [6.22000000e+00, 1.90157723e-01, 2.87000000e+00],\n",
       "       [8.01000000e+00, 6.45015824e-01, 3.76000000e+00],\n",
       "       [6.93000000e+00, 2.04332909e-01, 2.51000000e+00],\n",
       "       [6.75000000e+00, 8.55000250e-01, 2.56000000e+00],\n",
       "       [7.32000000e+00, 1.64319784e-01, 2.99000000e+00],\n",
       "       [7.04000000e+00, 3.16228901e-01, 3.50000000e+00],\n",
       "       [6.29000000e+00, 6.54831314e-01, 3.23000000e+00],\n",
       "       [7.09000000e+00, 9.66798714e-01, 3.64000000e+00],\n",
       "       [8.15000000e+00, 6.82802035e-01, 3.63000000e+00],\n",
       "       [7.14000000e+00, 8.96365040e-02, 3.03000000e+00],\n",
       "       [6.19000000e+00, 1.96345042e-01, 2.72000000e+00],\n",
       "       [8.22000000e+00, 5.88575404e-01, 3.89000000e+00],\n",
       "       [5.88000000e+00, 2.33540067e-01, 2.08000000e+00],\n",
       "       [7.28000000e+00, 5.38051708e-01, 2.72000000e+00],\n",
       "       [7.88000000e+00, 1.94234831e-01, 3.14000000e+00],\n",
       "       [6.31000000e+00, 5.97832147e-01, 3.18000000e+00],\n",
       "       [7.84000000e+00, 3.33352491e-01, 3.47000000e+00],\n",
       "       [6.26000000e+00, 5.97894034e-01, 2.44000000e+00],\n",
       "       [7.35000000e+00, 7.23556099e-01, 3.08000000e+00],\n",
       "       [8.11000000e+00, 1.39244357e-01, 4.06000000e+00],\n",
       "       [6.19000000e+00, 1.21061448e-01, 2.69000000e+00],\n",
       "       [7.28000000e+00, 5.63653541e-02, 3.48000000e+00],\n",
       "       [8.25000000e+00, 6.75523857e-01, 3.75000000e+00],\n",
       "       [4.57000000e+00, 4.18771757e-01, 1.94000000e+00],\n",
       "       [7.89000000e+00, 4.50581431e-01, 3.67000000e+00],\n",
       "       [6.93000000e+00, 6.73771518e-02, 2.46000000e+00],\n",
       "       [5.89000000e+00, 3.11697911e-01, 2.57000000e+00],\n",
       "       [7.21000000e+00, 5.29550880e-01, 3.24000000e+00],\n",
       "       [7.63000000e+00, 4.38768516e-02, 3.96000000e+00],\n",
       "       [6.22000000e+00, 8.20199600e-02, 2.33000000e+00]])"
      ]
     },
     "execution_count": 30,
     "metadata": {},
     "output_type": "execute_result"
    }
   ],
   "source": [
    "new_df.values"
   ]
  },
  {
   "cell_type": "code",
   "execution_count": 33,
   "id": "376b8c8a-8b31-4a80-b753-1a31001411d4",
   "metadata": {},
   "outputs": [
    {
     "data": {
      "text/plain": [
       "Text(0, 0.5, 'package')"
      ]
     },
     "execution_count": 33,
     "metadata": {},
     "output_type": "execute_result"
    },
    {
     "data": {
      "image/png": "[encoded data removed]",
      "text/plain": [
       "<Figure size 640x480 with 1 Axes>"
      ]
     },
     "metadata": {},
     "output_type": "display_data"
    }
   ],
   "source": [
    "plt.scatter(new_df['random_feature'], new_df['package'])\n",
    "plt.xlabel('random_feature')\n",
    "plt.ylabel('package')"
   ]
  },
  {
   "cell_type": "code",
   "execution_count": 34,
   "id": "cd868732-7f74-42ba-9e2f-0b322d37d719",
   "metadata": {},
   "outputs": [],
   "source": [
    "X = new_df.iloc[:,0:2]\n",
    "y = new_df.iloc[:,-1]"
   ]
  },
  {
   "cell_type": "code",
   "execution_count": 36,
   "id": "d1c14235-c686-462f-8282-cc91853952c3",
   "metadata": {},
   "outputs": [
    {
     "data": {
      "text/html": [
       "<div>\n",
       "<style scoped>\n",
       "    .dataframe tbody tr th:only-of-type {\n",
       "        vertical-align: middle;\n",
       "    }\n",
       "\n",
       "    .dataframe tbody tr th {\n",
       "        vertical-align: top;\n",
       "    }\n",
       "\n",
       "    .dataframe thead th {\n",
       "        text-align: right;\n",
       "    }\n",
       "</style>\n",
       "<table border=\"1\" class=\"dataframe\">\n",
       "  <thead>\n",
       "    <tr style=\"text-align: right;\">\n",
       "      <th></th>\n",
       "      <th>cgpa</th>\n",
       "      <th>random_feature</th>\n",
       "    </tr>\n",
       "  </thead>\n",
       "  <tbody>\n",
       "    <tr>\n",
       "      <th>0</th>\n",
       "      <td>6.89</td>\n",
       "      <td>0.182777</td>\n",
       "    </tr>\n",
       "    <tr>\n",
       "      <th>1</th>\n",
       "      <td>5.12</td>\n",
       "      <td>0.994717</td>\n",
       "    </tr>\n",
       "    <tr>\n",
       "      <th>2</th>\n",
       "      <td>7.82</td>\n",
       "      <td>0.756629</td>\n",
       "    </tr>\n",
       "    <tr>\n",
       "      <th>3</th>\n",
       "      <td>7.42</td>\n",
       "      <td>0.965695</td>\n",
       "    </tr>\n",
       "    <tr>\n",
       "      <th>4</th>\n",
       "      <td>6.94</td>\n",
       "      <td>0.904544</td>\n",
       "    </tr>\n",
       "  </tbody>\n",
       "</table>\n",
       "</div>"
      ],
      "text/plain": [
       "   cgpa  random_feature\n",
       "0  6.89        0.182777\n",
       "1  5.12        0.994717\n",
       "2  7.82        0.756629\n",
       "3  7.42        0.965695\n",
       "4  6.94        0.904544"
      ]
     },
     "execution_count": 36,
     "metadata": {},
     "output_type": "execute_result"
    }
   ],
   "source": [
    "X.head()"
   ]
  },
  {
   "cell_type": "code",
   "execution_count": 37,
   "id": "beca5ab8-4c7c-496e-8a22-3fca5d6709c5",
   "metadata": {},
   "outputs": [
    {
     "data": {
      "text/plain": [
       "0    3.26\n",
       "1    1.98\n",
       "2    3.25\n",
       "3    3.67\n",
       "4    3.57\n",
       "Name: package, dtype: float64"
      ]
     },
     "execution_count": 37,
     "metadata": {},
     "output_type": "execute_result"
    }
   ],
   "source": [
    "y.head()"
   ]
  },
  {
   "cell_type": "code",
   "execution_count": 39,
   "id": "bdc0e6c3-1ccc-42fe-a415-c2de93017471",
   "metadata": {},
   "outputs": [],
   "source": [
    "X_train, X_test, y_train, y_test = train_test_split(X, y, test_size = 0.2, random_state = 42)"
   ]
  },
  {
   "cell_type": "code",
   "execution_count": 40,
   "id": "4b6e03cf-d431-4455-8eb1-ee4bb804083e",
   "metadata": {},
   "outputs": [
    {
     "data": {
      "text/html": [
       "<style>#sk-container-id-2 {color: black;}#sk-container-id-2 pre{padding: 0;}#sk-container-id-2 div.sk-toggleable {background-color: white;}#sk-container-id-2 label.sk-toggleable__label {cursor: pointer;display: block;width: 100%;margin-bottom: 0;padding: 0.3em;box-sizing: border-box;text-align: center;}#sk-container-id-2 label.sk-toggleable__label-arrow:before {content: \"▸\";float: left;margin-right: 0.25em;color: #696969;}#sk-container-id-2 label.sk-toggleable__label-arrow:hover:before {color: black;}#sk-container-id-2 div.sk-estimator:hover label.sk-toggleable__label-arrow:before {color: black;}#sk-container-id-2 div.sk-toggleable__content {max-height: 0;max-width: 0;overflow: hidden;text-align: left;background-color: #f0f8ff;}#sk-container-id-2 div.sk-toggleable__content pre {margin: 0.2em;color: black;border-radius: 0.25em;background-color: #f0f8ff;}#sk-container-id-2 input.sk-toggleable__control:checked~div.sk-toggleable__content {max-height: 200px;max-width: 100%;overflow: auto;}#sk-container-id-2 input.sk-toggleable__control:checked~label.sk-toggleable__label-arrow:before {content: \"▾\";}#sk-container-id-2 div.sk-estimator input.sk-toggleable__control:checked~label.sk-toggleable__label {background-color: #d4ebff;}#sk-container-id-2 div.sk-label input.sk-toggleable__control:checked~label.sk-toggleable__label {background-color: #d4ebff;}#sk-container-id-2 input.sk-hidden--visually {border: 0;clip: rect(1px 1px 1px 1px);clip: rect(1px, 1px, 1px, 1px);height: 1px;margin: -1px;overflow: hidden;padding: 0;position: absolute;width: 1px;}#sk-container-id-2 div.sk-estimator {font-family: monospace;background-color: #f0f8ff;border: 1px dotted black;border-radius: 0.25em;box-sizing: border-box;margin-bottom: 0.5em;}#sk-container-id-2 div.sk-estimator:hover {background-color: #d4ebff;}#sk-container-id-2 div.sk-parallel-item::after {content: \"\";width: 100%;border-bottom: 1px solid gray;flex-grow: 1;}#sk-container-id-2 div.sk-label:hover label.sk-toggleable__label {background-color: #d4ebff;}#sk-container-id-2 div.sk-serial::before {content: \"\";position: absolute;border-left: 1px solid gray;box-sizing: border-box;top: 0;bottom: 0;left: 50%;z-index: 0;}#sk-container-id-2 div.sk-serial {display: flex;flex-direction: column;align-items: center;background-color: white;padding-right: 0.2em;padding-left: 0.2em;position: relative;}#sk-container-id-2 div.sk-item {position: relative;z-index: 1;}#sk-container-id-2 div.sk-parallel {display: flex;align-items: stretch;justify-content: center;background-color: white;position: relative;}#sk-container-id-2 div.sk-item::before, #sk-container-id-2 div.sk-parallel-item::before {content: \"\";position: absolute;border-left: 1px solid gray;box-sizing: border-box;top: 0;bottom: 0;left: 50%;z-index: -1;}#sk-container-id-2 div.sk-parallel-item {display: flex;flex-direction: column;z-index: 1;position: relative;background-color: white;}#sk-container-id-2 div.sk-parallel-item:first-child::after {align-self: flex-end;width: 50%;}#sk-container-id-2 div.sk-parallel-item:last-child::after {align-self: flex-start;width: 50%;}#sk-container-id-2 div.sk-parallel-item:only-child::after {width: 0;}#sk-container-id-2 div.sk-dashed-wrapped {border: 1px dashed gray;margin: 0 0.4em 0.5em 0.4em;box-sizing: border-box;padding-bottom: 0.4em;background-color: white;}#sk-container-id-2 div.sk-label label {font-family: monospace;font-weight: bold;display: inline-block;line-height: 1.2em;}#sk-container-id-2 div.sk-label-container {text-align: center;}#sk-container-id-2 div.sk-container {/* jupyter's `normalize.less` sets `[hidden] { display: none; }` but bootstrap.min.css set `[hidden] { display: none !important; }` so we also need the `!important` here to be able to override the default hidden behavior on the sphinx rendered scikit-learn.org. See: https://github.com/scikit-learn/scikit-learn/issues/21755 */display: inline-block !important;position: relative;}#sk-container-id-2 div.sk-text-repr-fallback {display: none;}</style><div id=\"sk-container-id-2\" class=\"sk-top-container\"><div class=\"sk-text-repr-fallback\"><pre>LinearRegression()</pre><b>In a Jupyter environment, please rerun this cell to show the HTML representation or trust the notebook. <br />On GitHub, the HTML representation is unable to render, please try loading this page with nbviewer.org.</b></div><div class=\"sk-container\" hidden><div class=\"sk-item\"><div class=\"sk-estimator sk-toggleable\"><input class=\"sk-toggleable__control sk-hidden--visually\" id=\"sk-estimator-id-2\" type=\"checkbox\" checked><label for=\"sk-estimator-id-2\" class=\"sk-toggleable__label sk-toggleable__label-arrow\">LinearRegression</label><div class=\"sk-toggleable__content\"><pre>LinearRegression()</pre></div></div></div></div></div>"
      ],
      "text/plain": [
       "LinearRegression()"
      ]
     },
     "execution_count": 40,
     "metadata": {},
     "output_type": "execute_result"
    }
   ],
   "source": [
    "lr = LinearRegression()\n",
    "lr.fit(X_train,y_train)"
   ]
  },
  {
   "cell_type": "code",
   "execution_count": 41,
   "id": "f31579ad-d614-4dcb-a926-9ce83c4fa2bd",
   "metadata": {},
   "outputs": [],
   "source": [
    "y_pred = lr.predict(X_test)"
   ]
  },
  {
   "cell_type": "code",
   "execution_count": 42,
   "id": "937306fa-1e91-4fa5-8b89-82c524aa9868",
   "metadata": {},
   "outputs": [
    {
     "name": "stdout",
     "output_type": "stream",
     "text": [
      "R2 score:  0.7604346494360367\n"
     ]
    }
   ],
   "source": [
    "print('R2 score: ', r2_score(y_test, y_pred))\n",
    "r2 = r2_score(y_test, y_pred)"
   ]
  },
  {
   "cell_type": "code",
   "execution_count": 43,
   "id": "a9fe4014-aed8-4bbb-a5cb-221538845e2a",
   "metadata": {},
   "outputs": [
    {
     "data": {
      "text/plain": [
       "0.7541302981054061"
      ]
     },
     "execution_count": 43,
     "metadata": {},
     "output_type": "execute_result"
    }
   ],
   "source": [
    "1 - ((1-r2)*(40 -1)) / (40 - 1 - 1)"
   ]
  },
  {
   "cell_type": "code",
   "execution_count": 44,
   "id": "cf6ea8cd-553e-4c96-a7f9-d2ff74df9d88",
   "metadata": {},
   "outputs": [],
   "source": [
    "new_df2 = df.copy()\n",
    "new_df2['iq'] = new_df2['package'] + (np.random.randint(-12,12,200)/10)\n",
    "new_df2 = new_df2[['cgpa', 'iq', 'package']]"
   ]
  },
  {
   "cell_type": "code",
   "execution_count": 45,
   "id": "44abe85a-bd97-4349-9d9a-78d3c35d4b52",
   "metadata": {},
   "outputs": [
    {
     "data": {
      "text/html": [
       "<div>\n",
       "<style scoped>\n",
       "    .dataframe tbody tr th:only-of-type {\n",
       "        vertical-align: middle;\n",
       "    }\n",
       "\n",
       "    .dataframe tbody tr th {\n",
       "        vertical-align: top;\n",
       "    }\n",
       "\n",
       "    .dataframe thead th {\n",
       "        text-align: right;\n",
       "    }\n",
       "</style>\n",
       "<table border=\"1\" class=\"dataframe\">\n",
       "  <thead>\n",
       "    <tr style=\"text-align: right;\">\n",
       "      <th></th>\n",
       "      <th>cgpa</th>\n",
       "      <th>iq</th>\n",
       "      <th>package</th>\n",
       "    </tr>\n",
       "  </thead>\n",
       "  <tbody>\n",
       "    <tr>\n",
       "      <th>0</th>\n",
       "      <td>6.89</td>\n",
       "      <td>2.96</td>\n",
       "      <td>3.26</td>\n",
       "    </tr>\n",
       "    <tr>\n",
       "      <th>1</th>\n",
       "      <td>5.12</td>\n",
       "      <td>1.18</td>\n",
       "      <td>1.98</td>\n",
       "    </tr>\n",
       "    <tr>\n",
       "      <th>2</th>\n",
       "      <td>7.82</td>\n",
       "      <td>3.55</td>\n",
       "      <td>3.25</td>\n",
       "    </tr>\n",
       "    <tr>\n",
       "      <th>3</th>\n",
       "      <td>7.42</td>\n",
       "      <td>2.47</td>\n",
       "      <td>3.67</td>\n",
       "    </tr>\n",
       "    <tr>\n",
       "      <th>4</th>\n",
       "      <td>6.94</td>\n",
       "      <td>3.77</td>\n",
       "      <td>3.57</td>\n",
       "    </tr>\n",
       "  </tbody>\n",
       "</table>\n",
       "</div>"
      ],
      "text/plain": [
       "   cgpa    iq  package\n",
       "0  6.89  2.96     3.26\n",
       "1  5.12  1.18     1.98\n",
       "2  7.82  3.55     3.25\n",
       "3  7.42  2.47     3.67\n",
       "4  6.94  3.77     3.57"
      ]
     },
     "execution_count": 45,
     "metadata": {},
     "output_type": "execute_result"
    }
   ],
   "source": [
    "new_df2.head()"
   ]
  },
  {
   "cell_type": "code",
   "execution_count": 46,
   "id": "70424a01-66c2-4b9e-b869-79d99ffd8978",
   "metadata": {},
   "outputs": [
    {
     "data": {
      "text/plain": [
       "Text(0, 0.5, 'package')"
      ]
     },
     "execution_count": 46,
     "metadata": {},
     "output_type": "execute_result"
    },
    {
     "data": {
      "image/png": "[encoded data removed]",
      "text/plain": [
       "<Figure size 640x480 with 1 Axes>"
      ]
     },
     "metadata": {},
     "output_type": "display_data"
    }
   ],
   "source": [
    "plt.scatter(new_df2['iq'], new_df2['package'])\n",
    "plt.xlabel('iq')\n",
    "plt.ylabel('package')"
   ]
  },
  {
   "cell_type": "code",
   "execution_count": 47,
   "id": "477eb2ee-0429-4e30-8478-ca84a3d95520",
   "metadata": {},
   "outputs": [
    {
     "data": {
      "text/plain": [
       "74"
      ]
     },
     "execution_count": 47,
     "metadata": {},
     "output_type": "execute_result"
    }
   ],
   "source": [
    "np.random.randint(-100, 100)"
   ]
  },
  {
   "cell_type": "code",
   "execution_count": 48,
   "id": "ce3e76ba-d8d0-428c-927c-d96ef2d3c438",
   "metadata": {},
   "outputs": [],
   "source": [
    "X = new_df2.iloc[:,0:2]\n",
    "y = new_df2.iloc[:,-1]"
   ]
  },
  {
   "cell_type": "code",
   "execution_count": 49,
   "id": "3f829660-1979-4583-855e-74219dbd3dcd",
   "metadata": {},
   "outputs": [
    {
     "data": {
      "text/html": [
       "<div>\n",
       "<style scoped>\n",
       "    .dataframe tbody tr th:only-of-type {\n",
       "        vertical-align: middle;\n",
       "    }\n",
       "\n",
       "    .dataframe tbody tr th {\n",
       "        vertical-align: top;\n",
       "    }\n",
       "\n",
       "    .dataframe thead th {\n",
       "        text-align: right;\n",
       "    }\n",
       "</style>\n",
       "<table border=\"1\" class=\"dataframe\">\n",
       "  <thead>\n",
       "    <tr style=\"text-align: right;\">\n",
       "      <th></th>\n",
       "      <th>cgpa</th>\n",
       "      <th>iq</th>\n",
       "    </tr>\n",
       "  </thead>\n",
       "  <tbody>\n",
       "    <tr>\n",
       "      <th>0</th>\n",
       "      <td>6.89</td>\n",
       "      <td>2.96</td>\n",
       "    </tr>\n",
       "    <tr>\n",
       "      <th>1</th>\n",
       "      <td>5.12</td>\n",
       "      <td>1.18</td>\n",
       "    </tr>\n",
       "    <tr>\n",
       "      <th>2</th>\n",
       "      <td>7.82</td>\n",
       "      <td>3.55</td>\n",
       "    </tr>\n",
       "    <tr>\n",
       "      <th>3</th>\n",
       "      <td>7.42</td>\n",
       "      <td>2.47</td>\n",
       "    </tr>\n",
       "    <tr>\n",
       "      <th>4</th>\n",
       "      <td>6.94</td>\n",
       "      <td>3.77</td>\n",
       "    </tr>\n",
       "  </tbody>\n",
       "</table>\n",
       "</div>"
      ],
      "text/plain": [
       "   cgpa    iq\n",
       "0  6.89  2.96\n",
       "1  5.12  1.18\n",
       "2  7.82  3.55\n",
       "3  7.42  2.47\n",
       "4  6.94  3.77"
      ]
     },
     "execution_count": 49,
     "metadata": {},
     "output_type": "execute_result"
    }
   ],
   "source": [
    "X.head()"
   ]
  },
  {
   "cell_type": "code",
   "execution_count": 50,
   "id": "b1a6fa1f-86c5-43a7-ae2b-f8a5d82ff9e5",
   "metadata": {},
   "outputs": [
    {
     "data": {
      "text/plain": [
       "0    3.26\n",
       "1    1.98\n",
       "2    3.25\n",
       "3    3.67\n",
       "4    3.57\n",
       "Name: package, dtype: float64"
      ]
     },
     "execution_count": 50,
     "metadata": {},
     "output_type": "execute_result"
    }
   ],
   "source": [
    "y.head()"
   ]
  },
  {
   "cell_type": "code",
   "execution_count": 51,
   "id": "873610c1-c8dc-45c3-ba3b-348cdc5894c7",
   "metadata": {},
   "outputs": [],
   "source": [
    "X_train,X_test, y_train, y_test = train_test_split(X,y, test_size = 0.2, random_state = 42)"
   ]
  },
  {
   "cell_type": "code",
   "execution_count": 53,
   "id": "f18dcf69-6aa5-4ceb-8699-ac093291386f",
   "metadata": {},
   "outputs": [],
   "source": [
    "lr = LinearRegression()\n",
    "lr.fit(X_train, y_train)\n",
    "y_pred = lr.predict(X_test)"
   ]
  },
  {
   "cell_type": "code",
   "execution_count": 54,
   "id": "04465723-e94d-4a4c-aa65-b2f9b6c7d4f6",
   "metadata": {},
   "outputs": [
    {
     "name": "stdout",
     "output_type": "stream",
     "text": [
      "R2 score:  0.8356497326018024\n"
     ]
    }
   ],
   "source": [
    "print('R2 score: ', r2_score(y_test, y_pred))\n",
    "r2 = r2_score(y_test, y_pred)"
   ]
  },
  {
   "cell_type": "code",
   "execution_count": 55,
   "id": "58d36a42-43ca-4fed-a27e-7eb07313bec4",
   "metadata": {},
   "outputs": [
    {
     "data": {
      "text/plain": [
       "0.8313247255650078"
      ]
     },
     "execution_count": 55,
     "metadata": {},
     "output_type": "execute_result"
    }
   ],
   "source": [
    "1 - ((1-r2)*(40 -1)) / (40 - 1 - 1)"
   ]
  },
  {
   "cell_type": "code",
   "execution_count": null,
   "id": "1f655770-442c-494c-840d-a567bbc5c45f",
   "metadata": {},
   "outputs": [],
   "source": []
  }
 ],
 "metadata": {
  "kernelspec": {
   "display_name": "Python 3 (ipykernel)",
   "language": "python",
   "name": "python3"
  },
  "language_info": {
   "codemirror_mode": {
    "name": "ipython",
    "version": 3
   },
   "file_extension": ".py",
   "mimetype": "text/x-python",
   "name": "python",
   "nbconvert_exporter": "python",
   "pygments_lexer": "ipython3",
   "version": "3.11.4"
  }
 },
 "nbformat": 4,
 "nbformat_minor": 5
}
