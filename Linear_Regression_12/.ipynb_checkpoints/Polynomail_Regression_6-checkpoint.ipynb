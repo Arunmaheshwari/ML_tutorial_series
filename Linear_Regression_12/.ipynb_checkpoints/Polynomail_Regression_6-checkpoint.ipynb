{
 "cells": [
  {
   "cell_type": "code",
   "execution_count": 8,
   "id": "420b8a4b-5f03-46ea-9a6a-cbdf0e93fcaa",
   "metadata": {},
   "outputs": [],
   "source": [
    "import numpy as np\n",
    "import matplotlib.pyplot as plt\n",
    "\n",
    "from sklearn.model_selection import train_test_split\n",
    "from sklearn.linear_model import LinearRegression, SGDRegressor\n",
    "from sklearn.preprocessing import PolynomialFeatures, StandardScaler\n",
    "from sklearn.metrics import r2_score\n",
    "from sklearn.pipeline import Pipeline"
   ]
  },
  {
   "cell_type": "code",
   "execution_count": 9,
   "id": "889d6d5a-b992-4249-a490-b13d323af92e",
   "metadata": {},
   "outputs": [],
   "source": [
    "X = 6 * np.random.rand(200, 1) - 3\n",
    "y = 0.8 * X**2 + 0.9 * X + 2 + np.random.randn(200,1)\n",
    "\n",
    "# y = 0.8 x^2 + 0.9 x +2"
   ]
  },
  {
   "cell_type": "code",
   "execution_count": 10,
   "id": "079a196a-c15f-470d-8002-07ed9823ccc3",
   "metadata": {},
   "outputs": [
    {
     "name": "stdout",
     "output_type": "stream",
     "text": [
      "[[-2.08550205]\n",
      " [ 2.78069067]\n",
      " [-1.10269044]\n",
      " [-2.62377441]\n",
      " [ 0.7065813 ]\n",
      " [ 1.79576726]\n",
      " [ 0.38337924]\n",
      " [ 0.42588631]\n",
      " [ 0.22978147]\n",
      " [-1.39651785]\n",
      " [ 1.14802594]\n",
      " [-1.78490444]\n",
      " [-0.1227284 ]\n",
      " [-2.79560199]\n",
      " [-2.3624167 ]\n",
      " [ 1.82840701]\n",
      " [ 1.72158341]\n",
      " [ 2.3183656 ]\n",
      " [ 2.20063946]\n",
      " [ 1.84458558]\n",
      " [ 1.13373136]\n",
      " [-0.19250102]\n",
      " [ 1.17379207]\n",
      " [ 0.99411342]\n",
      " [ 1.22108982]\n",
      " [-1.26173174]\n",
      " [ 2.71246864]\n",
      " [ 1.88222554]\n",
      " [-0.35453074]\n",
      " [ 2.30062344]\n",
      " [ 1.32403895]\n",
      " [ 0.79750456]\n",
      " [-0.74579138]\n",
      " [-1.84171317]\n",
      " [-2.41046326]\n",
      " [-2.69951719]\n",
      " [-1.51134526]\n",
      " [-1.52779627]\n",
      " [ 0.51355004]\n",
      " [-2.5968647 ]\n",
      " [ 2.57807103]\n",
      " [ 2.4648009 ]\n",
      " [-0.39132767]\n",
      " [-0.76713813]\n",
      " [ 2.22008463]\n",
      " [-0.85430013]\n",
      " [-2.79604219]\n",
      " [ 1.25991345]\n",
      " [-1.64123228]\n",
      " [ 1.84078999]\n",
      " [ 2.26489115]\n",
      " [ 1.70920496]\n",
      " [-0.95042362]\n",
      " [-2.57958719]\n",
      " [-0.16054498]\n",
      " [-2.17891189]\n",
      " [ 0.02074007]\n",
      " [-2.27647546]\n",
      " [ 0.89136075]\n",
      " [-0.79742311]\n",
      " [-0.65699558]\n",
      " [-2.10154864]\n",
      " [-1.60688172]\n",
      " [ 2.4455034 ]\n",
      " [ 2.40883467]\n",
      " [ 2.66445218]\n",
      " [-2.95854727]\n",
      " [-0.03867798]\n",
      " [ 2.77937717]\n",
      " [-2.7724052 ]\n",
      " [-2.13898762]\n",
      " [ 2.28454823]\n",
      " [-0.67004257]\n",
      " [ 1.05044644]\n",
      " [-2.37690072]\n",
      " [-1.94211161]\n",
      " [ 1.85022036]\n",
      " [ 1.9074641 ]\n",
      " [ 1.69671505]\n",
      " [-2.28514592]\n",
      " [-0.12386128]\n",
      " [-2.75244223]\n",
      " [-1.64890032]\n",
      " [ 2.83404708]\n",
      " [ 2.4650448 ]\n",
      " [-2.1608335 ]\n",
      " [ 1.58894434]\n",
      " [ 1.61963873]\n",
      " [ 2.40852115]\n",
      " [-2.93234705]\n",
      " [ 1.94931689]\n",
      " [ 2.6319113 ]\n",
      " [ 0.6638058 ]\n",
      " [-0.6750899 ]\n",
      " [ 2.32849715]\n",
      " [ 2.98665893]\n",
      " [-1.54168905]\n",
      " [-2.10151589]\n",
      " [-0.91907749]\n",
      " [ 2.1623757 ]\n",
      " [ 2.02959616]\n",
      " [-2.63186645]\n",
      " [ 1.67290345]\n",
      " [-1.87327055]\n",
      " [-2.73128892]\n",
      " [ 1.96111247]\n",
      " [-1.04841353]\n",
      " [-0.35292528]\n",
      " [ 1.4050433 ]\n",
      " [ 1.03408999]\n",
      " [-2.17083634]\n",
      " [-1.11111377]\n",
      " [-2.7578693 ]\n",
      " [-2.28611245]\n",
      " [ 0.89624121]\n",
      " [-1.68986521]\n",
      " [ 1.55851038]\n",
      " [-2.29586832]\n",
      " [-0.792589  ]\n",
      " [-1.37296603]\n",
      " [ 0.2713523 ]\n",
      " [-0.12036164]\n",
      " [ 0.256405  ]\n",
      " [ 0.6629546 ]\n",
      " [-2.72176502]\n",
      " [ 0.52015753]\n",
      " [-1.63955863]\n",
      " [ 1.94938939]\n",
      " [ 0.17512522]\n",
      " [ 0.29969039]\n",
      " [ 1.93460808]\n",
      " [ 0.947506  ]\n",
      " [-1.10405545]\n",
      " [ 1.67916719]\n",
      " [ 1.23416271]\n",
      " [ 0.63867402]\n",
      " [ 2.96892121]\n",
      " [-0.3985451 ]\n",
      " [ 0.90227012]\n",
      " [ 2.00917884]\n",
      " [ 2.50019891]\n",
      " [-0.37892553]\n",
      " [ 0.49669036]\n",
      " [ 2.59656586]\n",
      " [-1.78393194]\n",
      " [-2.15052554]\n",
      " [ 2.53175186]\n",
      " [-0.11818697]\n",
      " [-1.05634487]\n",
      " [-2.52742995]\n",
      " [ 0.18303348]\n",
      " [-2.95843147]\n",
      " [-1.96005862]\n",
      " [ 1.91093774]\n",
      " [-1.99629048]\n",
      " [-2.71078778]\n",
      " [-1.42076733]\n",
      " [ 0.07209056]\n",
      " [ 1.03705586]\n",
      " [ 2.77534218]\n",
      " [ 1.98381323]\n",
      " [-0.08775693]\n",
      " [ 2.69041939]\n",
      " [-2.51522668]\n",
      " [ 2.28570701]\n",
      " [ 0.40148244]\n",
      " [ 2.61871347]\n",
      " [-2.60533803]\n",
      " [-2.92597882]\n",
      " [ 0.32037614]\n",
      " [-0.7419237 ]\n",
      " [ 0.54326115]\n",
      " [-0.50703397]\n",
      " [ 1.68276448]\n",
      " [ 2.05356314]\n",
      " [-2.38942237]\n",
      " [-2.99798025]\n",
      " [-0.79632352]\n",
      " [ 0.74291333]\n",
      " [ 1.68121543]\n",
      " [-2.87417443]\n",
      " [ 2.72967652]\n",
      " [-2.79645453]\n",
      " [ 1.24013011]\n",
      " [ 1.2214477 ]\n",
      " [ 1.37327908]\n",
      " [-1.24399015]\n",
      " [ 1.89327322]\n",
      " [-1.22753231]\n",
      " [ 2.42833503]\n",
      " [ 0.7340567 ]\n",
      " [-0.019952  ]\n",
      " [ 0.50645022]\n",
      " [-1.7633418 ]\n",
      " [ 1.77186647]\n",
      " [ 1.41586783]\n",
      " [-2.62055252]\n",
      " [-0.06186419]\n",
      " [ 0.36581515]\n",
      " [ 0.43191525]]\n",
      "[[ 4.83948773]\n",
      " [10.48230536]\n",
      " [ 3.05361034]\n",
      " [ 4.54107618]\n",
      " [ 1.38599139]\n",
      " [ 6.07353868]\n",
      " [ 3.26297081]\n",
      " [ 1.53942664]\n",
      " [ 2.34572297]\n",
      " [ 1.17566037]\n",
      " [ 3.19510347]\n",
      " [ 3.59480139]\n",
      " [ 2.14209343]\n",
      " [ 5.88894043]\n",
      " [ 3.63935066]\n",
      " [ 7.64505479]\n",
      " [ 4.98494799]\n",
      " [ 9.09522559]\n",
      " [ 8.71610322]\n",
      " [ 7.59192207]\n",
      " [ 3.87093325]\n",
      " [ 1.92747807]\n",
      " [ 2.78722736]\n",
      " [ 4.22778678]\n",
      " [ 2.22426442]\n",
      " [ 1.72388894]\n",
      " [10.65002968]\n",
      " [ 5.14027825]\n",
      " [-0.58512954]\n",
      " [ 7.37464612]\n",
      " [ 4.81617748]\n",
      " [ 4.39728301]\n",
      " [ 1.92415992]\n",
      " [ 3.28418349]\n",
      " [ 4.66414673]\n",
      " [ 4.55940075]\n",
      " [ 2.75084736]\n",
      " [ 1.58919082]\n",
      " [ 3.3254716 ]\n",
      " [ 6.52768571]\n",
      " [ 8.26717889]\n",
      " [11.12461043]\n",
      " [ 1.40452071]\n",
      " [ 1.70545909]\n",
      " [ 8.94717043]\n",
      " [ 0.55181861]\n",
      " [ 3.1439321 ]\n",
      " [ 3.03220019]\n",
      " [ 3.29046298]\n",
      " [ 6.99002542]\n",
      " [ 6.98654284]\n",
      " [ 5.09897328]\n",
      " [ 1.13982993]\n",
      " [ 3.52993944]\n",
      " [ 3.97935693]\n",
      " [ 4.00938589]\n",
      " [ 1.55796456]\n",
      " [ 4.80010379]\n",
      " [ 3.00515679]\n",
      " [ 2.04641698]\n",
      " [ 1.03622073]\n",
      " [ 2.51383564]\n",
      " [ 2.54028697]\n",
      " [ 9.65807939]\n",
      " [ 7.8621796 ]\n",
      " [10.51956121]\n",
      " [ 7.52536797]\n",
      " [ 0.0707303 ]\n",
      " [11.04581594]\n",
      " [ 4.47030022]\n",
      " [ 4.79080606]\n",
      " [ 8.50384588]\n",
      " [ 0.81231013]\n",
      " [ 3.59775506]\n",
      " [ 3.72751982]\n",
      " [ 3.27806205]\n",
      " [ 5.97543385]\n",
      " [ 6.55105233]\n",
      " [ 7.76992367]\n",
      " [ 4.05295212]\n",
      " [ 0.50995951]\n",
      " [ 6.0611459 ]\n",
      " [ 1.84438575]\n",
      " [10.67571803]\n",
      " [ 9.09684912]\n",
      " [ 3.57097373]\n",
      " [ 4.6489372 ]\n",
      " [ 7.708588  ]\n",
      " [ 9.3859721 ]\n",
      " [ 5.10690975]\n",
      " [ 6.36238368]\n",
      " [ 9.22875271]\n",
      " [ 2.60477987]\n",
      " [ 0.41676094]\n",
      " [ 8.33898465]\n",
      " [12.46766476]\n",
      " [ 5.69869245]\n",
      " [ 3.57849083]\n",
      " [ 3.67737926]\n",
      " [ 9.64747608]\n",
      " [ 5.95788743]\n",
      " [ 5.38395647]\n",
      " [ 5.90723609]\n",
      " [ 1.46598311]\n",
      " [ 5.68245446]\n",
      " [ 7.89836453]\n",
      " [ 1.46616707]\n",
      " [ 1.31042348]\n",
      " [ 5.47752423]\n",
      " [ 4.51531056]\n",
      " [ 3.65864661]\n",
      " [ 1.99962401]\n",
      " [ 4.1408868 ]\n",
      " [ 2.05092203]\n",
      " [ 2.28626709]\n",
      " [ 3.88015854]\n",
      " [ 5.04316608]\n",
      " [ 4.7409894 ]\n",
      " [ 2.14177534]\n",
      " [ 3.90757296]\n",
      " [ 2.36037459]\n",
      " [ 4.14149928]\n",
      " [ 3.63039708]\n",
      " [ 1.09333457]\n",
      " [ 6.80040486]\n",
      " [ 3.03711483]\n",
      " [ 4.19322041]\n",
      " [ 7.37816294]\n",
      " [ 3.5389595 ]\n",
      " [ 1.93412514]\n",
      " [ 8.6867457 ]\n",
      " [ 2.60829221]\n",
      " [ 1.28005664]\n",
      " [ 5.59948174]\n",
      " [ 3.53226112]\n",
      " [ 2.17056123]\n",
      " [11.39663585]\n",
      " [ 0.26456083]\n",
      " [ 2.42898408]\n",
      " [ 6.99394623]\n",
      " [ 8.38866095]\n",
      " [-0.3706319 ]\n",
      " [ 2.45683703]\n",
      " [ 9.60200586]\n",
      " [ 3.12390244]\n",
      " [ 3.2109065 ]\n",
      " [10.18702176]\n",
      " [ 0.63335951]\n",
      " [ 1.92954651]\n",
      " [ 3.93339498]\n",
      " [ 0.94365073]\n",
      " [ 5.52154198]\n",
      " [ 3.95591962]\n",
      " [ 5.66883561]\n",
      " [ 5.78888777]\n",
      " [ 5.16836954]\n",
      " [ 3.60912506]\n",
      " [ 1.86291202]\n",
      " [ 3.29748791]\n",
      " [ 9.02128574]\n",
      " [ 8.25058089]\n",
      " [ 0.42867851]\n",
      " [10.0476916 ]\n",
      " [ 5.97113492]\n",
      " [ 7.61343132]\n",
      " [ 3.20002999]\n",
      " [ 8.19357429]\n",
      " [ 5.37772843]\n",
      " [ 7.07883606]\n",
      " [ 1.54134898]\n",
      " [ 1.28079564]\n",
      " [ 3.21436877]\n",
      " [ 2.93129581]\n",
      " [ 4.22566338]\n",
      " [ 6.97552966]\n",
      " [ 3.86642601]\n",
      " [ 5.78434515]\n",
      " [ 0.97545633]\n",
      " [ 5.00624616]\n",
      " [ 6.42953693]\n",
      " [ 6.31481268]\n",
      " [10.48155473]\n",
      " [ 5.38239529]\n",
      " [ 3.51944282]\n",
      " [ 4.18140583]\n",
      " [ 4.34301728]\n",
      " [ 3.12066678]\n",
      " [ 6.25893007]\n",
      " [ 0.58229859]\n",
      " [ 8.73749313]\n",
      " [ 4.74696985]\n",
      " [ 1.48474028]\n",
      " [ 2.21996251]\n",
      " [ 2.21183914]\n",
      " [ 8.04871198]\n",
      " [ 5.60505148]\n",
      " [ 5.75948413]\n",
      " [ 1.44827705]\n",
      " [ 2.08528564]\n",
      " [ 2.8470606 ]]\n"
     ]
    }
   ],
   "source": [
    "print(X)\n",
    "print(y)"
   ]
  },
  {
   "cell_type": "code",
   "execution_count": 11,
   "id": "8b62b594-aa72-4f42-a9a1-b6f381f2dd7d",
   "metadata": {},
   "outputs": [
    {
     "data": {
      "image/png": "[encoded data removed]",
      "text/plain": [
       "<Figure size 640x480 with 1 Axes>"
      ]
     },
     "metadata": {},
     "output_type": "display_data"
    }
   ],
   "source": [
    "plt.plot(X,y,'b.')\n",
    "plt.xlabel(\"X\")\n",
    "plt.ylabel('y')\n",
    "plt.show()"
   ]
  },
  {
   "cell_type": "code",
   "execution_count": 12,
   "id": "5e7be3c7-6065-4789-9518-cfe0ca95883f",
   "metadata": {},
   "outputs": [],
   "source": [
    "X_train, X_test, y_train, y_test = train_test_split(X,y , test_size = 0.2, random_state = 42)"
   ]
  },
  {
   "cell_type": "code",
   "execution_count": 13,
   "id": "41024cc5-31c8-4ac4-901a-30496660cfb0",
   "metadata": {},
   "outputs": [],
   "source": [
    "lr = LinearRegression()"
   ]
  },
  {
   "cell_type": "code",
   "execution_count": 14,
   "id": "ec002ba3-1ffd-4922-9b4e-f6c9177df7fc",
   "metadata": {},
   "outputs": [
    {
     "data": {
      "text/html": [
       "<style>#sk-container-id-1 {color: black;}#sk-container-id-1 pre{padding: 0;}#sk-container-id-1 div.sk-toggleable {background-color: white;}#sk-container-id-1 label.sk-toggleable__label {cursor: pointer;display: block;width: 100%;margin-bottom: 0;padding: 0.3em;box-sizing: border-box;text-align: center;}#sk-container-id-1 label.sk-toggleable__label-arrow:before {content: \"▸\";float: left;margin-right: 0.25em;color: #696969;}#sk-container-id-1 label.sk-toggleable__label-arrow:hover:before {color: black;}#sk-container-id-1 div.sk-estimator:hover label.sk-toggleable__label-arrow:before {color: black;}#sk-container-id-1 div.sk-toggleable__content {max-height: 0;max-width: 0;overflow: hidden;text-align: left;background-color: #f0f8ff;}#sk-container-id-1 div.sk-toggleable__content pre {margin: 0.2em;color: black;border-radius: 0.25em;background-color: #f0f8ff;}#sk-container-id-1 input.sk-toggleable__control:checked~div.sk-toggleable__content {max-height: 200px;max-width: 100%;overflow: auto;}#sk-container-id-1 input.sk-toggleable__control:checked~label.sk-toggleable__label-arrow:before {content: \"▾\";}#sk-container-id-1 div.sk-estimator input.sk-toggleable__control:checked~label.sk-toggleable__label {background-color: #d4ebff;}#sk-container-id-1 div.sk-label input.sk-toggleable__control:checked~label.sk-toggleable__label {background-color: #d4ebff;}#sk-container-id-1 input.sk-hidden--visually {border: 0;clip: rect(1px 1px 1px 1px);clip: rect(1px, 1px, 1px, 1px);height: 1px;margin: -1px;overflow: hidden;padding: 0;position: absolute;width: 1px;}#sk-container-id-1 div.sk-estimator {font-family: monospace;background-color: #f0f8ff;border: 1px dotted black;border-radius: 0.25em;box-sizing: border-box;margin-bottom: 0.5em;}#sk-container-id-1 div.sk-estimator:hover {background-color: #d4ebff;}#sk-container-id-1 div.sk-parallel-item::after {content: \"\";width: 100%;border-bottom: 1px solid gray;flex-grow: 1;}#sk-container-id-1 div.sk-label:hover label.sk-toggleable__label {background-color: #d4ebff;}#sk-container-id-1 div.sk-serial::before {content: \"\";position: absolute;border-left: 1px solid gray;box-sizing: border-box;top: 0;bottom: 0;left: 50%;z-index: 0;}#sk-container-id-1 div.sk-serial {display: flex;flex-direction: column;align-items: center;background-color: white;padding-right: 0.2em;padding-left: 0.2em;position: relative;}#sk-container-id-1 div.sk-item {position: relative;z-index: 1;}#sk-container-id-1 div.sk-parallel {display: flex;align-items: stretch;justify-content: center;background-color: white;position: relative;}#sk-container-id-1 div.sk-item::before, #sk-container-id-1 div.sk-parallel-item::before {content: \"\";position: absolute;border-left: 1px solid gray;box-sizing: border-box;top: 0;bottom: 0;left: 50%;z-index: -1;}#sk-container-id-1 div.sk-parallel-item {display: flex;flex-direction: column;z-index: 1;position: relative;background-color: white;}#sk-container-id-1 div.sk-parallel-item:first-child::after {align-self: flex-end;width: 50%;}#sk-container-id-1 div.sk-parallel-item:last-child::after {align-self: flex-start;width: 50%;}#sk-container-id-1 div.sk-parallel-item:only-child::after {width: 0;}#sk-container-id-1 div.sk-dashed-wrapped {border: 1px dashed gray;margin: 0 0.4em 0.5em 0.4em;box-sizing: border-box;padding-bottom: 0.4em;background-color: white;}#sk-container-id-1 div.sk-label label {font-family: monospace;font-weight: bold;display: inline-block;line-height: 1.2em;}#sk-container-id-1 div.sk-label-container {text-align: center;}#sk-container-id-1 div.sk-container {/* jupyter's `normalize.less` sets `[hidden] { display: none; }` but bootstrap.min.css set `[hidden] { display: none !important; }` so we also need the `!important` here to be able to override the default hidden behavior on the sphinx rendered scikit-learn.org. See: https://github.com/scikit-learn/scikit-learn/issues/21755 */display: inline-block !important;position: relative;}#sk-container-id-1 div.sk-text-repr-fallback {display: none;}</style><div id=\"sk-container-id-1\" class=\"sk-top-container\"><div class=\"sk-text-repr-fallback\"><pre>LinearRegression()</pre><b>In a Jupyter environment, please rerun this cell to show the HTML representation or trust the notebook. <br />On GitHub, the HTML representation is unable to render, please try loading this page with nbviewer.org.</b></div><div class=\"sk-container\" hidden><div class=\"sk-item\"><div class=\"sk-estimator sk-toggleable\"><input class=\"sk-toggleable__control sk-hidden--visually\" id=\"sk-estimator-id-1\" type=\"checkbox\" checked><label for=\"sk-estimator-id-1\" class=\"sk-toggleable__label sk-toggleable__label-arrow\">LinearRegression</label><div class=\"sk-toggleable__content\"><pre>LinearRegression()</pre></div></div></div></div></div>"
      ],
      "text/plain": [
       "LinearRegression()"
      ]
     },
     "execution_count": 14,
     "metadata": {},
     "output_type": "execute_result"
    }
   ],
   "source": [
    "lr.fit(X_train,y_train)"
   ]
  },
  {
   "cell_type": "code",
   "execution_count": 15,
   "id": "b3eeb0d4-888f-4416-81fb-0b463333e37c",
   "metadata": {},
   "outputs": [
    {
     "data": {
      "text/plain": [
       "-3.3020455683107572"
      ]
     },
     "execution_count": 15,
     "metadata": {},
     "output_type": "execute_result"
    }
   ],
   "source": [
    "y_pred = lr.predict(X_test)\n",
    "r2_score(y_pred, y_test)"
   ]
  },
  {
   "cell_type": "code",
   "execution_count": 17,
   "id": "87815574-e035-49ec-8487-963a8c63aa62",
   "metadata": {},
   "outputs": [
    {
     "data": {
      "image/png": "[encoded data removed]",
      "text/plain": [
       "<Figure size 640x480 with 1 Axes>"
      ]
     },
     "metadata": {},
     "output_type": "display_data"
    }
   ],
   "source": [
    "plt.plot(X_train, lr.predict(X_train), color = 'r')\n",
    "plt.plot(X,y, \"b.\")\n",
    "plt.xlabel(\"X\")\n",
    "plt.ylabel('y')\n",
    "plt.show()"
   ]
  },
  {
   "cell_type": "code",
   "execution_count": 24,
   "id": "5705f6ee-bfe9-40b9-b4f5-5e5463132bd7",
   "metadata": {},
   "outputs": [],
   "source": [
    "# Applying Polynomail linear Regression\n",
    "# degree 2\n",
    "poly = PolynomialFeatures(degree = 2)\n",
    "X_train_trans = poly.fit_transform(X_train)\n",
    "X_test_trans = poly.transform(X_test)"
   ]
  },
  {
   "cell_type": "code",
   "execution_count": 25,
   "id": "b48688de-2a24-4069-a121-b46308093a0e",
   "metadata": {},
   "outputs": [
    {
     "name": "stdout",
     "output_type": "stream",
     "text": [
      "[-2.28514592]\n",
      "[ 1.         -2.28514592  5.22189186]\n"
     ]
    }
   ],
   "source": [
    "print(X_train[0])\n",
    "print(X_train_trans[0])"
   ]
  },
  {
   "cell_type": "code",
   "execution_count": 26,
   "id": "74e452cf-ffa5-4ffc-8152-1521a0a6800f",
   "metadata": {},
   "outputs": [
    {
     "data": {
      "text/html": [
       "<style>#sk-container-id-3 {color: black;}#sk-container-id-3 pre{padding: 0;}#sk-container-id-3 div.sk-toggleable {background-color: white;}#sk-container-id-3 label.sk-toggleable__label {cursor: pointer;display: block;width: 100%;margin-bottom: 0;padding: 0.3em;box-sizing: border-box;text-align: center;}#sk-container-id-3 label.sk-toggleable__label-arrow:before {content: \"▸\";float: left;margin-right: 0.25em;color: #696969;}#sk-container-id-3 label.sk-toggleable__label-arrow:hover:before {color: black;}#sk-container-id-3 div.sk-estimator:hover label.sk-toggleable__label-arrow:before {color: black;}#sk-container-id-3 div.sk-toggleable__content {max-height: 0;max-width: 0;overflow: hidden;text-align: left;background-color: #f0f8ff;}#sk-container-id-3 div.sk-toggleable__content pre {margin: 0.2em;color: black;border-radius: 0.25em;background-color: #f0f8ff;}#sk-container-id-3 input.sk-toggleable__control:checked~div.sk-toggleable__content {max-height: 200px;max-width: 100%;overflow: auto;}#sk-container-id-3 input.sk-toggleable__control:checked~label.sk-toggleable__label-arrow:before {content: \"▾\";}#sk-container-id-3 div.sk-estimator input.sk-toggleable__control:checked~label.sk-toggleable__label {background-color: #d4ebff;}#sk-container-id-3 div.sk-label input.sk-toggleable__control:checked~label.sk-toggleable__label {background-color: #d4ebff;}#sk-container-id-3 input.sk-hidden--visually {border: 0;clip: rect(1px 1px 1px 1px);clip: rect(1px, 1px, 1px, 1px);height: 1px;margin: -1px;overflow: hidden;padding: 0;position: absolute;width: 1px;}#sk-container-id-3 div.sk-estimator {font-family: monospace;background-color: #f0f8ff;border: 1px dotted black;border-radius: 0.25em;box-sizing: border-box;margin-bottom: 0.5em;}#sk-container-id-3 div.sk-estimator:hover {background-color: #d4ebff;}#sk-container-id-3 div.sk-parallel-item::after {content: \"\";width: 100%;border-bottom: 1px solid gray;flex-grow: 1;}#sk-container-id-3 div.sk-label:hover label.sk-toggleable__label {background-color: #d4ebff;}#sk-container-id-3 div.sk-serial::before {content: \"\";position: absolute;border-left: 1px solid gray;box-sizing: border-box;top: 0;bottom: 0;left: 50%;z-index: 0;}#sk-container-id-3 div.sk-serial {display: flex;flex-direction: column;align-items: center;background-color: white;padding-right: 0.2em;padding-left: 0.2em;position: relative;}#sk-container-id-3 div.sk-item {position: relative;z-index: 1;}#sk-container-id-3 div.sk-parallel {display: flex;align-items: stretch;justify-content: center;background-color: white;position: relative;}#sk-container-id-3 div.sk-item::before, #sk-container-id-3 div.sk-parallel-item::before {content: \"\";position: absolute;border-left: 1px solid gray;box-sizing: border-box;top: 0;bottom: 0;left: 50%;z-index: -1;}#sk-container-id-3 div.sk-parallel-item {display: flex;flex-direction: column;z-index: 1;position: relative;background-color: white;}#sk-container-id-3 div.sk-parallel-item:first-child::after {align-self: flex-end;width: 50%;}#sk-container-id-3 div.sk-parallel-item:last-child::after {align-self: flex-start;width: 50%;}#sk-container-id-3 div.sk-parallel-item:only-child::after {width: 0;}#sk-container-id-3 div.sk-dashed-wrapped {border: 1px dashed gray;margin: 0 0.4em 0.5em 0.4em;box-sizing: border-box;padding-bottom: 0.4em;background-color: white;}#sk-container-id-3 div.sk-label label {font-family: monospace;font-weight: bold;display: inline-block;line-height: 1.2em;}#sk-container-id-3 div.sk-label-container {text-align: center;}#sk-container-id-3 div.sk-container {/* jupyter's `normalize.less` sets `[hidden] { display: none; }` but bootstrap.min.css set `[hidden] { display: none !important; }` so we also need the `!important` here to be able to override the default hidden behavior on the sphinx rendered scikit-learn.org. See: https://github.com/scikit-learn/scikit-learn/issues/21755 */display: inline-block !important;position: relative;}#sk-container-id-3 div.sk-text-repr-fallback {display: none;}</style><div id=\"sk-container-id-3\" class=\"sk-top-container\"><div class=\"sk-text-repr-fallback\"><pre>LinearRegression()</pre><b>In a Jupyter environment, please rerun this cell to show the HTML representation or trust the notebook. <br />On GitHub, the HTML representation is unable to render, please try loading this page with nbviewer.org.</b></div><div class=\"sk-container\" hidden><div class=\"sk-item\"><div class=\"sk-estimator sk-toggleable\"><input class=\"sk-toggleable__control sk-hidden--visually\" id=\"sk-estimator-id-3\" type=\"checkbox\" checked><label for=\"sk-estimator-id-3\" class=\"sk-toggleable__label sk-toggleable__label-arrow\">LinearRegression</label><div class=\"sk-toggleable__content\"><pre>LinearRegression()</pre></div></div></div></div></div>"
      ],
      "text/plain": [
       "LinearRegression()"
      ]
     },
     "execution_count": 26,
     "metadata": {},
     "output_type": "execute_result"
    }
   ],
   "source": [
    "lr = LinearRegression()\n",
    "lr.fit(X_train_trans, y_train)"
   ]
  },
  {
   "cell_type": "code",
   "execution_count": 27,
   "id": "89c1bece-45a5-4e06-8aa2-9bf546182d87",
   "metadata": {},
   "outputs": [],
   "source": [
    "y_pred = lr.predict(X_test_trans)"
   ]
  },
  {
   "cell_type": "code",
   "execution_count": 28,
   "id": "4aeadc0f-459f-4958-97f1-599b620d99b6",
   "metadata": {},
   "outputs": [
    {
     "data": {
      "text/plain": [
       "0.8807979372294744"
      ]
     },
     "execution_count": 28,
     "metadata": {},
     "output_type": "execute_result"
    }
   ],
   "source": [
    "r2_score(y_pred, y_test)"
   ]
  },
  {
   "cell_type": "code",
   "execution_count": null,
   "id": "1c7cde0a-b714-4e89-850e-ba0cb1080521",
   "metadata": {},
   "outputs": [],
   "source": [
    "prin"
   ]
  }
 ],
 "metadata": {
  "kernelspec": {
   "display_name": "Python 3 (ipykernel)",
   "language": "python",
   "name": "python3"
  },
  "language_info": {
   "codemirror_mode": {
    "name": "ipython",
    "version": 3
   },
   "file_extension": ".py",
   "mimetype": "text/x-python",
   "name": "python",
   "nbconvert_exporter": "python",
   "pygments_lexer": "ipython3",
   "version": "3.11.4"
  }
 },
 "nbformat": 4,
 "nbformat_minor": 5
}
