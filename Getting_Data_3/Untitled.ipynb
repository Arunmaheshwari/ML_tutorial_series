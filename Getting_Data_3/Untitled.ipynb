{
 "cells": [
  {
   "cell_type": "code",
   "execution_count": 2,
   "id": "368ba0fe-2843-4942-8474-9649d1d42c30",
   "metadata": {},
   "outputs": [
    {
     "name": "stdout",
     "output_type": "stream",
     "text": [
      "[{'id': '2518', 'display': '12051 - JAN SHATABDI EX (CSMT - MAO)', 'source_name': 'C SHIVAJI MAH T', 'source_name_hi': '', 'source_code': 'CSMT', 'destination_name': 'MADGAON', 'destination_name_hi': 'मडगांव', 'destination_code': 'MAO', 'runson': '1111111'}, {'id': '2525', 'display': '12058 - NDLS JANSHTBDI (UHL - NDLS)', 'source_name': 'UNA HIMACHAL', 'source_name_hi': 'ऊना हिमाचल', 'source_code': 'UHL', 'destination_name': 'NEW DELHI', 'destination_name_hi': 'नई दिल्ली', 'destination_code': 'NDLS', 'runson': '1111111'}, {'id': '2426', 'display': '11205 - LTT KRMR EXPRESS (LTT - KRMR)', 'source_name': 'LOKMANYATILAK T', 'source_name_hi': 'लोकमान्यतिलक', 'source_code': 'LTT', 'destination_name': 'KARIMNAGAR', 'destination_name_hi': 'करीमनगर आउटएजेंसी', 'destination_code': 'KRMR', 'runson': '0000010'}, {'id': '2523', 'display': '12056 - NDLS JANSHATABDI (DDN - NDLS)', 'source_name': 'DEHRADUN', 'source_name_hi': 'देहरादून', 'source_code': 'DDN', 'destination_name': 'NEW DELHI', 'destination_name_hi': 'नई दिल्ली', 'destination_code': 'NDLS', 'runson': '1111111'}, {'id': '2521', 'display': '12054 - ASR HW JNSHTBDI (ASR - HW)', 'source_name': 'AMRITSAR JN', 'source_name_hi': 'अमृतसर जं.', 'source_code': 'ASR', 'destination_name': 'HARIDWAR JN', 'destination_name_hi': 'हरिद्वार जं.', 'destination_code': 'HW', 'runson': '1110111'}, {'id': '2519', 'display': '12052 - JAN SHATABDI EX (MAO - CSMT)', 'source_name': 'MADGAON', 'source_name_hi': 'मडगांव', 'source_code': 'MAO', 'destination_name': 'C SHIVAJI MAH T', 'destination_name_hi': '', 'destination_code': 'CSMT', 'runson': '1111111'}, {'id': '2526', 'display': '12059 - NZM JAN SHATABDI (KOTA - NZM)', 'source_name': 'KOTA JN', 'source_name_hi': 'कोटा जं.', 'source_code': 'KOTA', 'destination_name': 'H NIZAMUDDIN', 'destination_name_hi': 'हजरत निजामुद्दीन', 'destination_code': 'NZM', 'runson': '1111111'}, {'id': '2517', 'display': '12050 - GATIMAAN EXP (NZM - VGLJ)', 'source_name': 'H NIZAMUDDIN', 'source_name_hi': 'हजरत निजामुद्दीन', 'source_code': 'NZM', 'destination_name': '', 'destination_name_hi': '', 'destination_code': 'VGLJ', 'runson': '1111011'}, {'id': '2524', 'display': '12057 - UHL JANSHATABDI (NDLS - UHL)', 'source_name': 'NEW DELHI', 'source_name_hi': 'नई दिल्ली', 'source_code': 'NDLS', 'destination_name': 'UNA HIMACHAL', 'destination_name_hi': 'ऊना हिमाचल', 'destination_code': 'UHL', 'runson': '1111111'}, {'id': '2522', 'display': '12055 - DDN JANSHTBDI (NDLS - DDN)', 'source_name': 'NEW DELHI', 'source_name_hi': 'नई दिल्ली', 'source_code': 'NDLS', 'destination_name': 'DEHRADUN', 'destination_name_hi': 'देहरादून', 'destination_code': 'DDN', 'runson': '1111111'}, {'id': '2520', 'display': '12053 - HW ASR JNSHTBDI (HW - ASR)', 'source_name': 'HARIDWAR JN', 'source_name_hi': 'हरिद्वार जं.', 'source_code': 'HW', 'destination_name': 'AMRITSAR JN', 'destination_name_hi': 'अमृतसर जं.', 'destination_code': 'ASR', 'runson': '1110111'}]\n"
     ]
    }
   ],
   "source": [
    "import requests\n",
    "\n",
    "url = \"https://indian-railway-irctc.p.rapidapi.com/getTrainId\"\n",
    "\n",
    "querystring = {\"trainno\":\"1205\"}\n",
    "\n",
    "headers = {\n",
    "\t\"x-rapid-api\": \"rapid-api-database\",\n",
    "\t\"X-RapidAPI-Key\": \"204722f6e3msh5734432a8137affp12180bjsncb64a292bdf0\",\n",
    "\t\"X-RapidAPI-Host\": \"indian-railway-irctc.p.rapidapi.com\"\n",
    "}\n",
    "\n",
    "response = requests.get(url, headers=headers, params=querystring)\n",
    "\n",
    "print(response.json())"
   ]
  },
  {
   "cell_type": "code",
   "execution_count": null,
   "id": "e3f8c89e-e647-4390-b235-cd21f30a35d1",
   "metadata": {},
   "outputs": [],
   "source": []
  }
 ],
 "metadata": {
  "kernelspec": {
   "display_name": "Python 3 (ipykernel)",
   "language": "python",
   "name": "python3"
  },
  "language_info": {
   "codemirror_mode": {
    "name": "ipython",
    "version": 3
   },
   "file_extension": ".py",
   "mimetype": "text/x-python",
   "name": "python",
   "nbconvert_exporter": "python",
   "pygments_lexer": "ipython3",
   "version": "3.11.4"
  }
 },
 "nbformat": 4,
 "nbformat_minor": 5
}
