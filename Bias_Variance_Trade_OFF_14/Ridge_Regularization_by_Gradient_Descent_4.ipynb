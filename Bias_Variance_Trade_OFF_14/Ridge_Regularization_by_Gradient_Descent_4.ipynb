{
 "cells": [
  {
   "cell_type": "code",
   "execution_count": 1,
   "id": "0ae75241-9b29-41ef-8ca1-093d67b36306",
   "metadata": {},
   "outputs": [],
   "source": [
    "from sklearn.datasets import load_diabetes\n",
    "from sklearn.metrics import r2_score\n",
    "import numpy as np"
   ]
  },
  {
   "cell_type": "code",
   "execution_count": 2,
   "id": "61bc73c4-785f-43ec-9a0a-107a0762e0c9",
   "metadata": {},
   "outputs": [],
   "source": [
    "X,y = load_diabetes(return_X_y = True)"
   ]
  },
  {
   "cell_type": "code",
   "execution_count": 3,
   "id": "2e369111-44b5-4a58-824d-bb229f595473",
   "metadata": {},
   "outputs": [],
   "source": [
    "from sklearn.model_selection import train_test_split\n",
    "X_train,X_test, y_train, y_test = train_test_split(X,y, test_size = 0.2, random_state = 34)"
   ]
  },
  {
   "cell_type": "code",
   "execution_count": 4,
   "id": "0095355b-5305-4b12-9ce7-1f332643b001",
   "metadata": {},
   "outputs": [],
   "source": [
    "from sklearn.linear_model import SGDRegressor"
   ]
  },
  {
   "cell_type": "code",
   "execution_count": 5,
   "id": "41b46e1a-5c16-4b63-a840-6c7cb139a450",
   "metadata": {},
   "outputs": [],
   "source": [
    "reg = SGDRegressor(penalty = 'l2', max_iter = 500, eta0 = 0.1, learning_rate = 'constant', alpha = 0.001)"
   ]
  },
  {
   "cell_type": "code",
   "execution_count": 6,
   "id": "3ce1d8fc-4897-489e-a30a-e2ff8c078e78",
   "metadata": {},
   "outputs": [
    {
     "name": "stdout",
     "output_type": "stream",
     "text": [
      "R2_score:  -1.110604609041316\n",
      "[  41.28172343 -163.61945751  394.63110522  247.13691398   -8.67516921\n",
      "  -40.47621588 -192.67956833  132.39862982  314.98071503  103.68413948]\n",
      "[153.72741429]\n"
     ]
    }
   ],
   "source": [
    "reg.fit(X_train,y_train)\n",
    "\n",
    "y_pred = reg.predict(X_test)\n",
    "print('R2_score: ',r2_score(y_pred, y_test))\n",
    "print(reg.coef_)\n",
    "print(reg.intercept_)"
   ]
  },
  {
   "cell_type": "code",
   "execution_count": 7,
   "id": "9db25edf-f6a9-4277-a5e0-7a1509d5fb68",
   "metadata": {},
   "outputs": [],
   "source": [
    "from sklearn.linear_model import Ridge\n",
    "reg = Ridge(alpha = 0.001, max_iter = 500, solver = 'sparse_cg')"
   ]
  },
  {
   "cell_type": "code",
   "execution_count": 8,
   "id": "4704a57e-ee2f-44de-841b-e1433682144c",
   "metadata": {},
   "outputs": [
    {
     "name": "stdout",
     "output_type": "stream",
     "text": [
      "R2_score:  0.3916279665551057\n",
      "[  16.79521656 -288.97523814  516.52108435  338.94378917 -649.6745535\n",
      "  409.38979539  -10.31298113  134.3419758   676.77288068   51.04080299]\n",
      "153.238766203204\n"
     ]
    }
   ],
   "source": [
    "reg.fit(X_train,y_train)\n",
    "y_pred = reg.predict(X_test)\n",
    "print('R2_score: ',r2_score(y_test, y_pred))\n",
    "print(reg.coef_)\n",
    "print(reg.intercept_)"
   ]
  },
  {
   "cell_type": "code",
   "execution_count": 14,
   "id": "e0ba74b5-3433-48d1-bbcc-c7d1df2543a0",
   "metadata": {},
   "outputs": [],
   "source": [
    "class my_ridge_GD:\n",
    "    def __init__(self, learning_rate, epochs, alpha):\n",
    "        self.learning_rate = learning_rate\n",
    "        self.epochs = epochs\n",
    "        self.alpha = alpha\n",
    "        self.coef_ = None\n",
    "        self.intercept_ = None\n",
    "    def fit(self, X_train, y_train):\n",
    "        self.coef_ = np.ones(X_train.shape[1])\n",
    "        self.intercept_ = 0\n",
    "        thetha = np.insert(self.coef_,0,self.intercept_)\n",
    "        X_train = np.insert(X_train,0,1,axis  = 1)\n",
    "        for i in range(self.epochs):\n",
    "            thetha_der = np.dot(X_train.T, X_train).dot(thetha) - np.dot(X_train.T, y_train) + self.alpha*thetha\n",
    "            thetha = thetha - self.learning_rate* thetha_der\n",
    "        self.coef_  = thetha[1:]\n",
    "        self.intercept_ = thetha[0]\n",
    "    def predict(self,X_test):\n",
    "        return self.intercept_ + np.dot(X_test,self.coef_)"
   ]
  },
  {
   "cell_type": "code",
   "execution_count": 15,
   "id": "787afef6-f2a0-4f8c-9fd7-949bf9266ca5",
   "metadata": {},
   "outputs": [],
   "source": [
    "reg = my_ridge_GD(epochs = 500, alpha = 0.001, learning_rate = 0.005)"
   ]
  },
  {
   "cell_type": "code",
   "execution_count": 16,
   "id": "5c47fd26-254f-4c6b-9aba-fb9d03071204",
   "metadata": {},
   "outputs": [
    {
     "name": "stdout",
     "output_type": "stream",
     "text": [
      "R2_score:  -0.5431032191016754\n",
      "[  38.65450358 -219.0380079   477.32573386  294.65741298  -30.68162021\n",
      "  -73.69219191 -222.42002064  141.12211285  370.19107534  112.40111258]\n",
      "153.56155340243595\n"
     ]
    }
   ],
   "source": [
    "reg.fit(X_train, y_train)\n",
    "y_pred = reg.predict(X_test)\n",
    "print('R2_score: ', r2_score(y_pred, y_test))\n",
    "print(reg.coef_)\n",
    "print(reg.intercept_)"
   ]
  },
  {
   "cell_type": "code",
   "execution_count": null,
   "id": "eb732949-2e19-4206-bffc-5a71227214f6",
   "metadata": {},
   "outputs": [],
   "source": []
  }
 ],
 "metadata": {
  "kernelspec": {
   "display_name": "Python 3 (ipykernel)",
   "language": "python",
   "name": "python3"
  },
  "language_info": {
   "codemirror_mode": {
    "name": "ipython",
    "version": 3
   },
   "file_extension": ".py",
   "mimetype": "text/x-python",
   "name": "python",
   "nbconvert_exporter": "python",
   "pygments_lexer": "ipython3",
   "version": "3.11.4"
  }
 },
 "nbformat": 4,
 "nbformat_minor": 5
}
