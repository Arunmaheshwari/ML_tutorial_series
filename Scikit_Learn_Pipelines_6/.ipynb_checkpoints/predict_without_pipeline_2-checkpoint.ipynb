{
 "cells": [
  {
   "cell_type": "code",
   "execution_count": 1,
   "id": "94afce7d-ff9a-4034-8bfd-ec2414bc3f62",
   "metadata": {},
   "outputs": [],
   "source": [
    "import numpy as np\n",
    "import pickle"
   ]
  },
  {
   "cell_type": "code",
   "execution_count": 6,
   "id": "041edd4d-c121-492b-83e0-777332fe024c",
   "metadata": {},
   "outputs": [],
   "source": [
    "ohe_sex = pickle.load(open('models/ohe_sex.pkl','rb'))\n",
    "ohe_embarked = pickle.load(open('models/ohe_embarked.pkl','rb'))\n",
    "clf = pickle.load(open('models/clf.pkl','rb'))"
   ]
  },
  {
   "cell_type": "code",
   "execution_count": 7,
   "id": "40f34c1f-9390-4638-be6c-5a500933c230",
   "metadata": {},
   "outputs": [],
   "source": [
    "# Assume user input\n",
    "# Pclass/ gender /age /sibSp/Parch/ Fare/ Embarked\n",
    "test_input = np.array([2, 'male', 31.0, 0, 0, 10.5, 'S'], dtype = object).reshape(1,7)"
   ]
  },
  {
   "cell_type": "code",
   "execution_count": 8,
   "id": "c045b6b6-f397-4c0b-b20d-656d520f0ff3",
   "metadata": {},
   "outputs": [
    {
     "data": {
      "text/plain": [
       "array([[2, 'male', 31.0, 0, 0, 10.5, 'S']], dtype=object)"
      ]
     },
     "execution_count": 8,
     "metadata": {},
     "output_type": "execute_result"
    }
   ],
   "source": [
    "test_input"
   ]
  },
  {
   "cell_type": "code",
   "execution_count": 9,
   "id": "2131cf5e-51fa-4862-a08d-904cd603e863",
   "metadata": {},
   "outputs": [
    {
     "name": "stderr",
     "output_type": "stream",
     "text": [
      "C:\\python3.7\\Lib\\site-packages\\sklearn\\base.py:465: UserWarning: X does not have valid feature names, but OneHotEncoder was fitted with feature names\n",
      "  warnings.warn(\n"
     ]
    }
   ],
   "source": [
    "test_input_sex = ohe_sex.transform(test_input[:,1].reshape(1,1))"
   ]
  },
  {
   "cell_type": "code",
   "execution_count": 10,
   "id": "257ed189-2d81-4f22-8409-b8260036984e",
   "metadata": {},
   "outputs": [
    {
     "data": {
      "text/plain": [
       "array([[0., 1.]])"
      ]
     },
     "execution_count": 10,
     "metadata": {},
     "output_type": "execute_result"
    }
   ],
   "source": [
    "test_input_sex"
   ]
  },
  {
   "cell_type": "code",
   "execution_count": 11,
   "id": "b71a5ebd-e870-41fa-98ae-069ecebea9c4",
   "metadata": {},
   "outputs": [
    {
     "name": "stderr",
     "output_type": "stream",
     "text": [
      "C:\\python3.7\\Lib\\site-packages\\sklearn\\base.py:465: UserWarning: X does not have valid feature names, but OneHotEncoder was fitted with feature names\n",
      "  warnings.warn(\n"
     ]
    }
   ],
   "source": [
    "test_input_embarked = ohe_embarked.transform(test_input[:,-1].reshape(1,1))"
   ]
  },
  {
   "cell_type": "code",
   "execution_count": 12,
   "id": "d541aa7f-ba1d-4911-88c8-16cd841e9124",
   "metadata": {},
   "outputs": [
    {
     "data": {
      "text/plain": [
       "array([[0., 0., 1., 0.]])"
      ]
     },
     "execution_count": 12,
     "metadata": {},
     "output_type": "execute_result"
    }
   ],
   "source": [
    "test_input_embarked"
   ]
  },
  {
   "cell_type": "code",
   "execution_count": 13,
   "id": "fdda71b3-ee86-4c6f-b1d0-a4f44977f5e5",
   "metadata": {},
   "outputs": [],
   "source": [
    "test_input_age = test_input[:,2].reshape(1,1)"
   ]
  },
  {
   "cell_type": "code",
   "execution_count": 14,
   "id": "c1d7d8bd-f880-43a7-a389-7055c1d3f9a9",
   "metadata": {},
   "outputs": [],
   "source": [
    "test_input_transformed = np.concatenate((test_input[:,[0,3,4,5]], test_input_age, test_input_sex, test_input_embarked), axis = 1)"
   ]
  },
  {
   "cell_type": "code",
   "execution_count": 15,
   "id": "341cd0bd-7819-4596-86fc-e57ff57b64f4",
   "metadata": {},
   "outputs": [
    {
     "data": {
      "text/plain": [
       "(1, 11)"
      ]
     },
     "execution_count": 15,
     "metadata": {},
     "output_type": "execute_result"
    }
   ],
   "source": [
    "test_input_transformed.shape"
   ]
  },
  {
   "cell_type": "code",
   "execution_count": 16,
   "id": "94f93096-5eab-4dde-9240-6457bdbf42c8",
   "metadata": {},
   "outputs": [
    {
     "data": {
      "text/plain": [
       "array([1], dtype=int64)"
      ]
     },
     "execution_count": 16,
     "metadata": {},
     "output_type": "execute_result"
    }
   ],
   "source": [
    "clf.predict(test_input_transformed)"
   ]
  },
  {
   "cell_type": "code",
   "execution_count": null,
   "id": "2936e47c-1fdb-4075-b87a-c69cd6eedd69",
   "metadata": {},
   "outputs": [],
   "source": []
  }
 ],
 "metadata": {
  "kernelspec": {
   "display_name": "Python 3 (ipykernel)",
   "language": "python",
   "name": "python3"
  },
  "language_info": {
   "codemirror_mode": {
    "name": "ipython",
    "version": 3
   },
   "file_extension": ".py",
   "mimetype": "text/x-python",
   "name": "python",
   "nbconvert_exporter": "python",
   "pygments_lexer": "ipython3",
   "version": "3.11.4"
  }
 },
 "nbformat": 4,
 "nbformat_minor": 5
}
