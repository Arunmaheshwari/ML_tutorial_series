{
 "cells": [
  {
   "cell_type": "code",
   "execution_count": 1,
   "id": "c1d30b3e-2e85-499f-a508-7a92a89914b7",
   "metadata": {},
   "outputs": [],
   "source": [
    "from sklearn.datasets import make_regression\n",
    "import matplotlib.pyplot as plt\n",
    "import numpy as np"
   ]
  },
  {
   "cell_type": "code",
   "execution_count": 2,
   "id": "2e40436f-2ed7-4b26-9d43-efa42614aed5",
   "metadata": {},
   "outputs": [],
   "source": [
    "X,y = make_regression(n_samples = 100, n_features = 1, n_informative = 1, n_targets = 1, noise = 20)"
   ]
  },
  {
   "cell_type": "code",
   "execution_count": 3,
   "id": "ca71a165-adcc-4425-937c-c1ffbd484df2",
   "metadata": {},
   "outputs": [
    {
     "data": {
      "text/plain": [
       "<matplotlib.collections.PathCollection at 0x213d776b1d0>"
      ]
     },
     "execution_count": 3,
     "metadata": {},
     "output_type": "execute_result"
    },
    {
     "data": {
      "image/png": "[encoded data removed]",
      "text/plain": [
       "<Figure size 640x480 with 1 Axes>"
      ]
     },
     "metadata": {},
     "output_type": "display_data"
    }
   ],
   "source": [
    "plt.scatter(X,y)"
   ]
  },
  {
   "cell_type": "code",
   "execution_count": 4,
   "id": "d5f22f7a-08db-46b1-844e-1f233abf0a79",
   "metadata": {},
   "outputs": [],
   "source": [
    "from sklearn.linear_model import LinearRegression\n",
    "lr = LinearRegression()"
   ]
  },
  {
   "cell_type": "code",
   "execution_count": 7,
   "id": "14387327-84a3-47d7-9289-626d75096638",
   "metadata": {},
   "outputs": [
    {
     "name": "stdout",
     "output_type": "stream",
     "text": [
      "[32.09380016]\n",
      "1.3210780156962563\n"
     ]
    }
   ],
   "source": [
    "lr.fit(X,y)\n",
    "print(lr.coef_)    # slope\n",
    "print(lr.intercept_)     # y_intercept"
   ]
  },
  {
   "cell_type": "code",
   "execution_count": 8,
   "id": "29e17235-5972-4980-ab6a-c7e80a3a369b",
   "metadata": {},
   "outputs": [],
   "source": [
    "m = 32.09"
   ]
  },
  {
   "cell_type": "code",
   "execution_count": 15,
   "id": "a5c22215-9373-4bb9-8f05-3cf96408b70b",
   "metadata": {},
   "outputs": [],
   "source": [
    "class GDRegressor:\n",
    "    def __init__(self, learning_rate, epochs):\n",
    "        self.m = 32.09\n",
    "        self.b = -120\n",
    "        self.lr = learning_rate\n",
    "        self.epochs = epochs\n",
    "    def fit(self,X,y):\n",
    "        # Calculate the b using GD\n",
    "        for i in range(self.epochs):\n",
    "            loss_slope = -2 * np.sum( y - self.m*X.ravel() - self.b)\n",
    "            self.b = self.b - ( self.lr * loss_slope)\n",
    "        print(self.b)\n",
    "            "
   ]
  },
  {
   "cell_type": "code",
   "execution_count": 22,
   "id": "3f75b720-9163-4c00-ae12-f567bafe3458",
   "metadata": {},
   "outputs": [],
   "source": [
    "gd = GDRegressor(0.001, 100)"
   ]
  },
  {
   "cell_type": "code",
   "execution_count": 23,
   "id": "5cf21a3a-9da1-4f74-80d1-81fd80c93f57",
   "metadata": {},
   "outputs": [
    {
     "name": "stdout",
     "output_type": "stream",
     "text": [
      "1.3207463951304792\n"
     ]
    }
   ],
   "source": [
    "gd.fit(X,y)"
   ]
  },
  {
   "cell_type": "code",
   "execution_count": null,
   "id": "ae08bddc-aa3c-4229-a2da-5d24bca9aeac",
   "metadata": {},
   "outputs": [],
   "source": []
  }
 ],
 "metadata": {
  "kernelspec": {
   "display_name": "Python 3 (ipykernel)",
   "language": "python",
   "name": "python3"
  },
  "language_info": {
   "codemirror_mode": {
    "name": "ipython",
    "version": 3
   },
   "file_extension": ".py",
   "mimetype": "text/x-python",
   "name": "python",
   "nbconvert_exporter": "python",
   "pygments_lexer": "ipython3",
   "version": "3.11.4"
  }
 },
 "nbformat": 4,
 "nbformat_minor": 5
}
