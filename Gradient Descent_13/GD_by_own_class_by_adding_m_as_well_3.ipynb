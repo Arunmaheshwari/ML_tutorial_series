{
 "cells": [
  {
   "cell_type": "code",
   "execution_count": 1,
   "id": "64a3a483-e415-4421-8f85-e151aecbb2b8",
   "metadata": {},
   "outputs": [],
   "source": [
    "from sklearn.datasets import make_regression\n",
    "import matplotlib.pyplot as plt\n",
    "import numpy as np"
   ]
  },
  {
   "cell_type": "code",
   "execution_count": 2,
   "id": "e47fccf8-8d68-4dc9-b1a0-934bd7a79a53",
   "metadata": {},
   "outputs": [],
   "source": [
    "X,y = make_regression(n_samples = 100, n_features = 1, n_informative = 1, n_targets = 1, noise = 20)"
   ]
  },
  {
   "cell_type": "code",
   "execution_count": 4,
   "id": "24ae1810-94d1-429b-9ae2-fdca4bb496fc",
   "metadata": {},
   "outputs": [
    {
     "data": {
      "text/plain": [
       "<matplotlib.collections.PathCollection at 0x1c0e89eac90>"
      ]
     },
     "execution_count": 4,
     "metadata": {},
     "output_type": "execute_result"
    },
    {
     "data": {
      "image/png": "[encoded data removed]",
      "text/plain": [
       "<Figure size 640x480 with 1 Axes>"
      ]
     },
     "metadata": {},
     "output_type": "display_data"
    }
   ],
   "source": [
    "plt.scatter(X,y)"
   ]
  },
  {
   "cell_type": "code",
   "execution_count": 5,
   "id": "a2c172a6-2069-4570-9ecf-83bd214a099b",
   "metadata": {},
   "outputs": [],
   "source": [
    "from sklearn.linear_model import LinearRegression\n",
    "lr = LinearRegression()"
   ]
  },
  {
   "cell_type": "code",
   "execution_count": 6,
   "id": "d89c9e18-bce4-429f-a7cd-5c12100e828f",
   "metadata": {},
   "outputs": [
    {
     "name": "stdout",
     "output_type": "stream",
     "text": [
      "[100.86692842]\n",
      "0.5678565741552442\n"
     ]
    }
   ],
   "source": [
    "lr.fit(X,y)\n",
    "print(lr.coef_)    # slope\n",
    "print(lr.intercept_)     # y_intercept"
   ]
  },
  {
   "cell_type": "code",
   "execution_count": 7,
   "id": "2a37f8f2-a091-4fa6-be8a-59e865c984d0",
   "metadata": {},
   "outputs": [],
   "source": [
    "from sklearn.model_selection import cross_val_score"
   ]
  },
  {
   "cell_type": "code",
   "execution_count": 8,
   "id": "fa0d43a9-4c4e-4510-82ad-1ab8d2f40bd3",
   "metadata": {},
   "outputs": [
    {
     "data": {
      "text/plain": [
       "0.9702021742981349"
      ]
     },
     "execution_count": 8,
     "metadata": {},
     "output_type": "execute_result"
    }
   ],
   "source": [
    "np.mean(cross_val_score(lr,X,y, scoring = 'r2', cv = 10))"
   ]
  },
  {
   "cell_type": "code",
   "execution_count": 16,
   "id": "bd14fd65-182b-4398-80ba-2877e0526c5c",
   "metadata": {},
   "outputs": [],
   "source": [
    "class GDRegressor:\n",
    "    def __init__(self, learning_rate, epochs):\n",
    "        self.m = 100\n",
    "        self.b = -120\n",
    "        self.lr = learning_rate\n",
    "        self.epochs = epochs\n",
    "    def fit(self,X,y):\n",
    "        # Calculate the b using GD\n",
    "        for i in range(self.epochs):\n",
    "            loss_slope_b = -2 * np.sum( y - self.m*X.ravel() - self.b)\n",
    "            loss_slope_m = -2 * np.sum(( y - self.m*X.ravel() - self.b)*X.ravel())\n",
    "\n",
    "            self.b = self.b - ( self.lr * loss_slope_b)\n",
    "            self.m = self.m - ( self.lr * loss_slope_m)\n",
    "        print(self.b,self.m)\n",
    "\n",
    "    def predict(self,X):\n",
    "        return self.m * X + self.b"
   ]
  },
  {
   "cell_type": "code",
   "execution_count": 17,
   "id": "81b7c607-c3ff-4a15-b8ac-1610b6afdcb7",
   "metadata": {},
   "outputs": [],
   "source": [
    "gd = GDRegressor(0.001,100)"
   ]
  },
  {
   "cell_type": "code",
   "execution_count": 18,
   "id": "8d43d6ef-3531-40ec-b66a-c9e6280518c0",
   "metadata": {},
   "outputs": [
    {
     "name": "stdout",
     "output_type": "stream",
     "text": [
      "0.5678565393446423 100.86692839196384\n"
     ]
    }
   ],
   "source": [
    "gd.fit(X,y)"
   ]
  },
  {
   "cell_type": "code",
   "execution_count": 19,
   "id": "b75daaf0-c4d0-4648-9f48-cd80b6682cc4",
   "metadata": {},
   "outputs": [
    {
     "data": {
      "text/plain": [
       "array([[ 1.10574441e+02],\n",
       "       [ 3.31132383e+01],\n",
       "       [-4.70472483e+01],\n",
       "       [ 3.56096607e+01],\n",
       "       [-5.10992024e+00],\n",
       "       [ 3.97421766e+01],\n",
       "       [ 1.89780980e+02],\n",
       "       [-4.59179879e+01],\n",
       "       [ 2.24138304e+01],\n",
       "       [ 1.86884701e+02],\n",
       "       [ 1.12072338e+02],\n",
       "       [-2.00502207e+01],\n",
       "       [ 6.25961570e+01],\n",
       "       [-3.83620079e+01],\n",
       "       [ 7.68991989e+01],\n",
       "       [-1.23714359e+02],\n",
       "       [-1.37102850e+02],\n",
       "       [-1.51900812e+01],\n",
       "       [ 9.24224375e+01],\n",
       "       [-3.14510710e+01],\n",
       "       [ 3.91919097e+01],\n",
       "       [ 1.84463922e+02],\n",
       "       [-1.06012896e+02],\n",
       "       [-7.06465191e+01],\n",
       "       [ 8.65758961e+01],\n",
       "       [ 1.28216198e+01],\n",
       "       [-5.38048373e+01],\n",
       "       [-7.12747634e+01],\n",
       "       [-1.89996488e+02],\n",
       "       [ 5.25741521e+00],\n",
       "       [ 7.34121083e+01],\n",
       "       [-4.06242569e+01],\n",
       "       [-1.51893574e+02],\n",
       "       [ 5.49992978e+01],\n",
       "       [-5.03577709e+00],\n",
       "       [-9.63200894e+01],\n",
       "       [ 1.29716300e+02],\n",
       "       [-1.37672585e+01],\n",
       "       [-1.63202670e+02],\n",
       "       [-1.58187066e+02],\n",
       "       [ 1.43129005e+02],\n",
       "       [ 2.04543662e+02],\n",
       "       [ 1.46537974e+02],\n",
       "       [-1.15247182e+02],\n",
       "       [ 7.76850723e+01],\n",
       "       [ 6.79003310e+00],\n",
       "       [-2.00884855e+02],\n",
       "       [-1.69655957e+01],\n",
       "       [-1.66684156e+02],\n",
       "       [-2.35387868e+01],\n",
       "       [-1.75339261e+01],\n",
       "       [-1.18617295e+02],\n",
       "       [ 6.78451024e+01],\n",
       "       [ 5.89551706e+01],\n",
       "       [ 1.40605308e+02],\n",
       "       [-3.52985295e+01],\n",
       "       [-1.16321071e+02],\n",
       "       [ 8.19748897e+01],\n",
       "       [ 1.86692774e+01],\n",
       "       [-7.89936762e+01],\n",
       "       [-4.67379278e+01],\n",
       "       [ 1.56196521e+01],\n",
       "       [ 1.06334475e+01],\n",
       "       [ 1.94369217e+02],\n",
       "       [-1.47974994e+02],\n",
       "       [-8.41065489e+01],\n",
       "       [-1.41100412e+02],\n",
       "       [-9.20579920e+00],\n",
       "       [-3.30799305e+01],\n",
       "       [-1.28696081e+02],\n",
       "       [ 2.74208255e+01],\n",
       "       [ 1.88357394e+02],\n",
       "       [-1.19089944e+02],\n",
       "       [ 2.98586324e+01],\n",
       "       [-9.34122885e+00],\n",
       "       [-3.26222032e+01],\n",
       "       [ 3.61141941e+01],\n",
       "       [-1.84700822e+01],\n",
       "       [ 1.33332538e+02],\n",
       "       [-7.03391175e+01],\n",
       "       [-1.31863381e+02],\n",
       "       [ 6.60128387e+01],\n",
       "       [ 1.31770754e+02],\n",
       "       [ 7.88993730e-03],\n",
       "       [-3.58012868e+01],\n",
       "       [ 1.73914482e+02],\n",
       "       [-8.14743136e+00],\n",
       "       [-1.42525244e+01],\n",
       "       [ 2.99710075e+01],\n",
       "       [ 9.10171434e+01],\n",
       "       [ 3.39097905e+01],\n",
       "       [ 5.83672601e+01],\n",
       "       [-5.06434212e+01],\n",
       "       [-2.42184147e+02],\n",
       "       [ 4.56262702e+01],\n",
       "       [ 2.27261408e+01],\n",
       "       [ 8.47628801e+01],\n",
       "       [-1.43801197e+02],\n",
       "       [-1.87654337e+02],\n",
       "       [-3.39002602e+01]])"
      ]
     },
     "execution_count": 19,
     "metadata": {},
     "output_type": "execute_result"
    }
   ],
   "source": [
    "gd.predict(X)"
   ]
  },
  {
   "cell_type": "code",
   "execution_count": null,
   "id": "e329cd53-0d0e-4487-8fd8-e294c4ee51f7",
   "metadata": {},
   "outputs": [],
   "source": []
  }
 ],
 "metadata": {
  "kernelspec": {
   "display_name": "Python 3 (ipykernel)",
   "language": "python",
   "name": "python3"
  },
  "language_info": {
   "codemirror_mode": {
    "name": "ipython",
    "version": 3
   },
   "file_extension": ".py",
   "mimetype": "text/x-python",
   "name": "python",
   "nbconvert_exporter": "python",
   "pygments_lexer": "ipython3",
   "version": "3.11.4"
  }
 },
 "nbformat": 4,
 "nbformat_minor": 5
}
